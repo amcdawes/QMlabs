{
  "cells": [
    {
      "cell_type": "markdown",
      "source": [
        "# Lab 8 - Simple Harmonic Oscillator states\n",
        "Problems from Chapter 12"
      ],
      "metadata": {}
    },
    {
      "cell_type": "code",
      "source": [
        "from numpy import sqrt\n",
        "from qutip import *"
      ],
      "outputs": [],
      "execution_count": 2,
      "metadata": {}
    },
    {
      "cell_type": "markdown",
      "source": [
        "## Define the standard operators"
      ],
      "metadata": {}
    },
    {
      "cell_type": "code",
      "source": [
        "N = 10  # pick a size for our state-space\n",
        "a = destroy(N)\n",
        "n = a.dag()*a"
      ],
      "outputs": [],
      "execution_count": 3,
      "metadata": {}
    },
    {
      "cell_type": "markdown",
      "source": [
        "## Problem 12.1:"
      ],
      "metadata": {}
    },
    {
      "cell_type": "code",
      "source": [
        "a*a.dag() - a.dag()*a"
      ],
      "outputs": [
        {
          "output_type": "execute_result",
          "execution_count": 4,
          "data": {
            "text/plain": [
              "Quantum object: dims = [[10], [10]], shape = (10, 10), type = oper, isherm = True\n",
              "Qobj data =\n",
              "[[ 1.  0.  0.  0.  0.  0.  0.  0.  0.  0.]\n",
              " [ 0.  1.  0.  0.  0.  0.  0.  0.  0.  0.]\n",
              " [ 0.  0.  1.  0.  0.  0.  0.  0.  0.  0.]\n",
              " [ 0.  0.  0.  1.  0.  0.  0.  0.  0.  0.]\n",
              " [ 0.  0.  0.  0.  1.  0.  0.  0.  0.  0.]\n",
              " [ 0.  0.  0.  0.  0.  1.  0.  0.  0.  0.]\n",
              " [ 0.  0.  0.  0.  0.  0.  1.  0.  0.  0.]\n",
              " [ 0.  0.  0.  0.  0.  0.  0.  1.  0.  0.]\n",
              " [ 0.  0.  0.  0.  0.  0.  0.  0.  1.  0.]\n",
              " [ 0.  0.  0.  0.  0.  0.  0.  0.  0. -9.]]"
            ],
            "text/latex": [
              "Quantum object: dims = [[10], [10]], shape = (10, 10), type = oper, isherm = True\\begin{equation*}\\left(\\begin{array}{*{11}c}1.0 & 0.0 & 0.0 & 0.0 & 0.0 & 0.0 & 0.0 & 0.0 & 0.0 & 0.0\\\\0.0 & 1.0 & 0.0 & 0.0 & 0.0 & 0.0 & 0.0 & 0.0 & 0.0 & 0.0\\\\0.0 & 0.0 & 1.000 & 0.0 & 0.0 & 0.0 & 0.0 & 0.0 & 0.0 & 0.0\\\\0.0 & 0.0 & 0.0 & 1.0 & 0.0 & 0.0 & 0.0 & 0.0 & 0.0 & 0.0\\\\0.0 & 0.0 & 0.0 & 0.0 & 1.0 & 0.0 & 0.0 & 0.0 & 0.0 & 0.0\\\\0.0 & 0.0 & 0.0 & 0.0 & 0.0 & 1.000 & 0.0 & 0.0 & 0.0 & 0.0\\\\0.0 & 0.0 & 0.0 & 0.0 & 0.0 & 0.0 & 1.0 & 0.0 & 0.0 & 0.0\\\\0.0 & 0.0 & 0.0 & 0.0 & 0.0 & 0.0 & 0.0 & 1.0 & 0.0 & 0.0\\\\0.0 & 0.0 & 0.0 & 0.0 & 0.0 & 0.0 & 0.0 & 0.0 & 1.000 & 0.0\\\\0.0 & 0.0 & 0.0 & 0.0 & 0.0 & 0.0 & 0.0 & 0.0 & 0.0 & -9.0\\\\\\end{array}\\right)\\end{equation*}"
            ]
          },
          "metadata": {}
        }
      ],
      "execution_count": 4,
      "metadata": {}
    },
    {
      "cell_type": "markdown",
      "source": [
        "## Problem 12.2:"
      ],
      "metadata": {}
    },
    {
      "cell_type": "code",
      "source": [
        "n*a.dag() - a.dag()*n"
      ],
      "outputs": [
        {
          "output_type": "execute_result",
          "execution_count": 5,
          "data": {
            "text/plain": [
              "Quantum object: dims = [[10], [10]], shape = (10, 10), type = oper, isherm = False\n",
              "Qobj data =\n",
              "[[ 0.          0.          0.          0.          0.          0.          0.\n",
              "   0.          0.          0.        ]\n",
              " [ 1.          0.          0.          0.          0.          0.          0.\n",
              "   0.          0.          0.        ]\n",
              " [ 0.          1.41421356  0.          0.          0.          0.          0.\n",
              "   0.          0.          0.        ]\n",
              " [ 0.          0.          1.73205081  0.          0.          0.          0.\n",
              "   0.          0.          0.        ]\n",
              " [ 0.          0.          0.          2.          0.          0.          0.\n",
              "   0.          0.          0.        ]\n",
              " [ 0.          0.          0.          0.          2.23606798  0.          0.\n",
              "   0.          0.          0.        ]\n",
              " [ 0.          0.          0.          0.          0.          2.44948974\n",
              "   0.          0.          0.          0.        ]\n",
              " [ 0.          0.          0.          0.          0.          0.\n",
              "   2.64575131  0.          0.          0.        ]\n",
              " [ 0.          0.          0.          0.          0.          0.          0.\n",
              "   2.82842712  0.          0.        ]\n",
              " [ 0.          0.          0.          0.          0.          0.          0.\n",
              "   0.          3.          0.        ]]"
            ],
            "text/latex": [
              "Quantum object: dims = [[10], [10]], shape = (10, 10), type = oper, isherm = False\\begin{equation*}\\left(\\begin{array}{*{11}c}0.0 & 0.0 & 0.0 & 0.0 & 0.0 & 0.0 & 0.0 & 0.0 & 0.0 & 0.0\\\\1.0 & 0.0 & 0.0 & 0.0 & 0.0 & 0.0 & 0.0 & 0.0 & 0.0 & 0.0\\\\0.0 & 1.414 & 0.0 & 0.0 & 0.0 & 0.0 & 0.0 & 0.0 & 0.0 & 0.0\\\\0.0 & 0.0 & 1.732 & 0.0 & 0.0 & 0.0 & 0.0 & 0.0 & 0.0 & 0.0\\\\0.0 & 0.0 & 0.0 & 2.0 & 0.0 & 0.0 & 0.0 & 0.0 & 0.0 & 0.0\\\\0.0 & 0.0 & 0.0 & 0.0 & 2.236 & 0.0 & 0.0 & 0.0 & 0.0 & 0.0\\\\0.0 & 0.0 & 0.0 & 0.0 & 0.0 & 2.449 & 0.0 & 0.0 & 0.0 & 0.0\\\\0.0 & 0.0 & 0.0 & 0.0 & 0.0 & 0.0 & 2.646 & 0.0 & 0.0 & 0.0\\\\0.0 & 0.0 & 0.0 & 0.0 & 0.0 & 0.0 & 0.0 & 2.828 & 0.0 & 0.0\\\\0.0 & 0.0 & 0.0 & 0.0 & 0.0 & 0.0 & 0.0 & 0.0 & 3.000 & 0.0\\\\\\end{array}\\right)\\end{equation*}"
            ]
          },
          "metadata": {}
        }
      ],
      "execution_count": 5,
      "metadata": {}
    },
    {
      "cell_type": "code",
      "source": [
        "n*a.dag() - a.dag()*n == a.dag()"
      ],
      "outputs": [
        {
          "output_type": "execute_result",
          "execution_count": 6,
          "data": {
            "text/plain": [
              "True"
            ]
          },
          "metadata": {}
        }
      ],
      "execution_count": 6,
      "metadata": {}
    },
    {
      "cell_type": "markdown",
      "source": [
        "## Problem 12.3 (use n=2 as a test-case):\n",
        "To define $|2\\rangle$ use the `basis(N,n)` command where `N` is the dimension of the vector, and `n` is the quantum number."
      ],
      "metadata": {}
    },
    {
      "cell_type": "code",
      "source": [
        "psi = basis(N,2)"
      ],
      "outputs": [],
      "execution_count": 7,
      "metadata": {}
    },
    {
      "cell_type": "code",
      "source": [
        "psi"
      ],
      "outputs": [
        {
          "output_type": "execute_result",
          "execution_count": 8,
          "data": {
            "text/plain": [
              "Quantum object: dims = [[10], [1]], shape = (10, 1), type = ket\n",
              "Qobj data =\n",
              "[[ 0.]\n",
              " [ 0.]\n",
              " [ 1.]\n",
              " [ 0.]\n",
              " [ 0.]\n",
              " [ 0.]\n",
              " [ 0.]\n",
              " [ 0.]\n",
              " [ 0.]\n",
              " [ 0.]]"
            ],
            "text/latex": [
              "Quantum object: dims = [[10], [1]], shape = (10, 1), type = ket\\begin{equation*}\\left(\\begin{array}{*{11}c}0.0\\\\0.0\\\\1.0\\\\0.0\\\\0.0\\\\0.0\\\\0.0\\\\0.0\\\\0.0\\\\0.0\\\\\\end{array}\\right)\\end{equation*}"
            ]
          },
          "metadata": {}
        }
      ],
      "execution_count": 8,
      "metadata": {
        "collapsed": false,
        "outputHidden": false,
        "inputHidden": false
      }
    },
    {
      "cell_type": "markdown",
      "source": [
        "## Problem 12.5 and 12.6:\n",
        "These are simple, just view the matrix representation of the operators"
      ],
      "metadata": {}
    },
    {
      "cell_type": "code",
      "source": [],
      "outputs": [],
      "execution_count": 9,
      "metadata": {}
    },
    {
      "cell_type": "markdown",
      "source": [
        "## Problem 12.7:\n",
        "First, define $\\hat{X}$ and $\\hat{P}$ operators"
      ],
      "metadata": {}
    },
    {
      "cell_type": "code",
      "source": [
        "psi = 1/sqrt(2)*(basis(N,1)+basis(N,2))"
      ],
      "outputs": [],
      "execution_count": 9,
      "metadata": {}
    },
    {
      "cell_type": "markdown",
      "source": [
        "## Problem 12.8:"
      ],
      "metadata": {}
    },
    {
      "cell_type": "code",
      "source": [
        "psi = 1/sqrt(2)*(basis(N,2)+basis(N,4))"
      ],
      "outputs": [],
      "execution_count": 10,
      "metadata": {}
    },
    {
      "cell_type": "code",
      "source": [],
      "outputs": [],
      "execution_count": null,
      "metadata": {
        "collapsed": true
      }
    }
  ],
  "metadata": {
    "kernelspec": {
      "name": "python3",
      "language": "python",
      "display_name": "Python 3"
    },
    "language_info": {
      "name": "python",
      "version": "3.6.3",
      "mimetype": "text/x-python",
      "codemirror_mode": {
        "name": "ipython",
        "version": 3
      },
      "pygments_lexer": "ipython3",
      "nbconvert_exporter": "python",
      "file_extension": ".py"
    },
    "kernel_info": {
      "name": "python3"
    },
    "nteract": {
      "version": "0.8.4"
    }
  },
  "nbformat": 4,
  "nbformat_minor": 1
}