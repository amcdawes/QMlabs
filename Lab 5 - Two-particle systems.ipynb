{
  "cells": [
    {
      "cell_type": "markdown",
      "source": [
        "# Two-particle systems\n",
        "An introduction to multi-particle spaces, starting with photon polarization states. This lab answers the question: How do we describe the state of two photons?"
      ],
      "metadata": {}
    },
    {
      "cell_type": "code",
      "source": [
        "import matplotlib.pyplot as plt\n",
        "from numpy import sqrt,pi,sin,cos,arange\n",
        "from qutip import *"
      ],
      "outputs": [],
      "execution_count": 1,
      "metadata": {
        "collapsed": false
      }
    },
    {
      "cell_type": "markdown",
      "source": [
        "### The polarization states (in the HV-basis):"
      ],
      "metadata": {}
    },
    {
      "cell_type": "code",
      "source": [
        "H = basis(2,0)\n",
        "V = basis(2,1)\n",
        "P45 = 1/sqrt(2)*(H+V)\n",
        "M45 = 1/sqrt(2)*(H-V)\n",
        "L = 1/sqrt(2)*(H+1j*V)\n",
        "R = 1/sqrt(2)*(H-1j*V)"
      ],
      "outputs": [],
      "execution_count": 4,
      "metadata": {
        "collapsed": false
      }
    },
    {
      "cell_type": "markdown",
      "source": [
        "### Define two-particle states using the `tensor()` function:\n",
        "Mathematically, we are taking the tensor product of two vectors. That product is a larger vector with twice as many entries as the individual state vectors. As long as we take the tensor products in the right order (i.e. always talking about photon 1 and photon 2 in that order) we can also make operators that act on two-photon states). In order to keep a consistent naming scheme, we'll call the first photon the **signal** photon and the second photon the **idler** photon. The names aren't particularly important but they come from the process we use in the lab:  [Spontaneous Parametric Down Conversion](https://en.wikipedia.org/wiki/Spontaneous_parametric_down-conversion) \n",
        "\nFirst, look at a generic pair of vectors and their tensor product:"
      ],
      "metadata": {}
    },
    {
      "cell_type": "code",
      "source": [
        "A = Qobj([[1],[2]])\n",
        "B = Qobj([[3],[4]])\n",
        "print(A)\n",
        "print(B)\n",
        "print(tensor(A,B))"
      ],
      "outputs": [
        {
          "output_type": "stream",
          "name": "stdout",
          "text": [
            "Quantum object: dims = [[2], [1]], shape = (2, 1), type = ket\n",
            "Qobj data =\n",
            "[[ 1.]\n",
            " [ 2.]]\n",
            "Quantum object: dims = [[2], [1]], shape = (2, 1), type = ket\n",
            "Qobj data =\n",
            "[[ 3.]\n",
            " [ 4.]]\n",
            "Quantum object: dims = [[2, 2], [1, 1]], shape = (4, 1), type = ket\n",
            "Qobj data =\n",
            "[[ 3.]\n",
            " [ 4.]\n",
            " [ 6.]\n",
            " [ 8.]]\n"
          ]
        }
      ],
      "execution_count": 5,
      "metadata": {
        "collapsed": false
      }
    },
    {
      "cell_type": "markdown",
      "source": [
        "So we see that the tensor product has the following elements: 1\\*3 = 3, 1\\*4 = 4, 2\\*3 = 6, 2\\*4 = 8. Essentially, we distributed the multiplication of the first vector through the second vector. Using the technical terms of vector spaces, the tensor product exists in a larger Hilbert space (the number of dimensions is the product of the dimensions of the original states). See this with larger initial states: two 3-dim vectors have a tensor product in 9-dim space:"
      ],
      "metadata": {}
    },
    {
      "cell_type": "code",
      "source": [
        "C = Qobj([[1],[2],[3]])\n",
        "D = Qobj([[4],[5],[6]])\n",
        "print(tensor(C,D))"
      ],
      "outputs": [
        {
          "output_type": "stream",
          "name": "stdout",
          "text": [
            "Quantum object: dims = [[3, 3], [1, 1]], shape = (9, 1), type = ket\n",
            "Qobj data =\n",
            "[[  4.]\n",
            " [  5.]\n",
            " [  6.]\n",
            " [  8.]\n",
            " [ 10.]\n",
            " [ 12.]\n",
            " [ 12.]\n",
            " [ 15.]\n",
            " [ 18.]]\n"
          ]
        }
      ],
      "execution_count": 6,
      "metadata": {
        "collapsed": false
      }
    },
    {
      "cell_type": "markdown",
      "source": [
        "Now, back to the quantum mechanics. Form the four different combinations of two photons:"
      ],
      "metadata": {}
    },
    {
      "cell_type": "code",
      "source": [
        "HH = tensor(H,H)\n",
        "HV = tensor(H,V)\n",
        "VH = tensor(V,H)\n",
        "VV = tensor(V,V)"
      ],
      "outputs": [],
      "execution_count": 7,
      "metadata": {
        "collapsed": false
      }
    },
    {
      "cell_type": "code",
      "source": [
        "# How do we represent HH? It is a vector with four elements.\n",
        "HH"
      ],
      "outputs": [
        {
          "output_type": "execute_result",
          "execution_count": 8,
          "data": {
            "text/plain": [
              "Quantum object: dims = [[2, 2], [1, 1]], shape = (4, 1), type = ket\n",
              "Qobj data =\n",
              "[[ 1.]\n",
              " [ 0.]\n",
              " [ 0.]\n",
              " [ 0.]]"
            ],
            "text/latex": [
              "Quantum object: dims = [[2, 2], [1, 1]], shape = (4, 1), type = ket\\begin{equation*}\\left(\\begin{array}{*{11}c}1.0\\\\0.0\\\\0.0\\\\0.0\\\\\\end{array}\\right)\\end{equation*}"
            ]
          },
          "metadata": {}
        }
      ],
      "execution_count": 8,
      "metadata": {
        "collapsed": false
      }
    },
    {
      "cell_type": "markdown",
      "source": [
        "So we interpret the state $|HH\\rangle$ as the vector (1,0,0,0) in a four-dimensional space."
      ],
      "metadata": {}
    },
    {
      "cell_type": "markdown",
      "source": [
        "Recall: The polarization measurement operator (for one photon):"
      ],
      "metadata": {}
    },
    {
      "cell_type": "code",
      "source": [
        "Phv = H*H.dag() - V*V.dag()\n",
        "Phv"
      ],
      "outputs": [
        {
          "output_type": "execute_result",
          "execution_count": 9,
          "data": {
            "text/plain": [
              "Quantum object: dims = [[2], [2]], shape = (2, 2), type = oper, isherm = True\n",
              "Qobj data =\n",
              "[[ 1.  0.]\n",
              " [ 0. -1.]]"
            ],
            "text/latex": [
              "Quantum object: dims = [[2], [2]], shape = (2, 2), type = oper, isherm = True\\begin{equation*}\\left(\\begin{array}{*{11}c}1.0 & 0.0\\\\0.0 & -1.0\\\\\\end{array}\\right)\\end{equation*}"
            ]
          },
          "metadata": {}
        }
      ],
      "execution_count": 9,
      "metadata": {
        "collapsed": false
      }
    },
    {
      "cell_type": "markdown",
      "source": [
        "Also, the identity is defined as `qeye(n)` for `n` dimensions in qutip:"
      ],
      "metadata": {}
    },
    {
      "cell_type": "code",
      "source": [
        "qeye(2)  # 2-dimensional identity"
      ],
      "outputs": [
        {
          "output_type": "execute_result",
          "execution_count": 10,
          "data": {
            "text/plain": [
              "Quantum object: dims = [[2], [2]], shape = (2, 2), type = oper, isherm = True\n",
              "Qobj data =\n",
              "[[ 1.  0.]\n",
              " [ 0.  1.]]"
            ],
            "text/latex": [
              "Quantum object: dims = [[2], [2]], shape = (2, 2), type = oper, isherm = True\\begin{equation*}\\left(\\begin{array}{*{11}c}1.0 & 0.0\\\\0.0 & 1.0\\\\\\end{array}\\right)\\end{equation*}"
            ]
          },
          "metadata": {}
        }
      ],
      "execution_count": 10,
      "metadata": {
        "collapsed": false
      }
    },
    {
      "cell_type": "markdown",
      "source": [
        "The two-photon operator, measuring the **signal** photon, is formed with the `tensor()` function. It is the tensor product of the projection operator `Phv` and the 2-dimensional identity operator `qeye(2)`. The trick is putting them in the correct order. The first element in the tensor product acts on the signal photon, the second acts on the idler photon. So to act on only the signal photon, we create a tensor product with the projection operator first, and the identity second:"
      ],
      "metadata": {}
    },
    {
      "cell_type": "code",
      "source": [
        "Phv_s = tensor(Phv,qeye(2))\n",
        "Phv_s"
      ],
      "outputs": [
        {
          "output_type": "execute_result",
          "execution_count": 11,
          "data": {
            "text/plain": [
              "Quantum object: dims = [[2, 2], [2, 2]], shape = (4, 4), type = oper, isherm = True\n",
              "Qobj data =\n",
              "[[ 1.  0.  0.  0.]\n",
              " [ 0.  1.  0.  0.]\n",
              " [ 0.  0. -1.  0.]\n",
              " [ 0.  0.  0. -1.]]"
            ],
            "text/latex": [
              "Quantum object: dims = [[2, 2], [2, 2]], shape = (4, 4), type = oper, isherm = True\\begin{equation*}\\left(\\begin{array}{*{11}c}1.0 & 0.0 & 0.0 & 0.0\\\\0.0 & 1.0 & 0.0 & 0.0\\\\0.0 & 0.0 & -1.0 & 0.0\\\\0.0 & 0.0 & 0.0 & -1.0\\\\\\end{array}\\right)\\end{equation*}"
            ]
          },
          "metadata": {}
        }
      ],
      "execution_count": 11,
      "metadata": {
        "collapsed": false
      }
    },
    {
      "cell_type": "markdown",
      "source": [
        "It can be hard to interpret these values visually but remember it was constructed by multiplying all the terms between two matrices with only diagonal elements. It makes sense that the result is also diagonal. Also, the sign of the diagonal depends on the state of the signal photon (the first one listed). Recall the states are in the order: HH, HV, VH, VV so the first two states have H signal photons and are therefore 1, and the second two states are V signal photons so -1 for those diagonals."
      ],
      "metadata": {}
    },
    {
      "cell_type": "markdown",
      "source": [
        "Now construct the two-photon operator that measures the idler photon:"
      ],
      "metadata": {}
    },
    {
      "cell_type": "code",
      "source": [
        "Phv_i = tensor(qeye(2),Phv)\n",
        "Phv_i"
      ],
      "outputs": [
        {
          "output_type": "execute_result",
          "execution_count": 12,
          "data": {
            "text/plain": [
              "Quantum object: dims = [[2, 2], [2, 2]], shape = (4, 4), type = oper, isherm = True\n",
              "Qobj data =\n",
              "[[ 1.  0.  0.  0.]\n",
              " [ 0. -1.  0.  0.]\n",
              " [ 0.  0.  1.  0.]\n",
              " [ 0.  0.  0. -1.]]"
            ],
            "text/latex": [
              "Quantum object: dims = [[2, 2], [2, 2]], shape = (4, 4), type = oper, isherm = True\\begin{equation*}\\left(\\begin{array}{*{11}c}1.0 & 0.0 & 0.0 & 0.0\\\\0.0 & -1.0 & 0.0 & 0.0\\\\0.0 & 0.0 & 1.0 & 0.0\\\\0.0 & 0.0 & 0.0 & -1.0\\\\\\end{array}\\right)\\end{equation*}"
            ]
          },
          "metadata": {}
        }
      ],
      "execution_count": 12,
      "metadata": {
        "collapsed": false
      }
    },
    {
      "cell_type": "markdown",
      "source": [
        "Next, construct a projection operator that projects the idler photon to H:"
      ],
      "metadata": {}
    },
    {
      "cell_type": "code",
      "source": [
        "Ph = H*H.dag()\n",
        "Ph_i = tensor(qeye(2),Ph)  # Ph for idler photon"
      ],
      "outputs": [],
      "execution_count": 13,
      "metadata": {
        "collapsed": false
      }
    },
    {
      "cell_type": "markdown",
      "source": [
        "And the same but for the signal photon:"
      ],
      "metadata": {}
    },
    {
      "cell_type": "code",
      "source": [
        "Ph_s = tensor(Ph,qeye(2))  # Ph for signal photon"
      ],
      "outputs": [],
      "execution_count": 14,
      "metadata": {
        "collapsed": false
      }
    },
    {
      "cell_type": "markdown",
      "source": [
        "You start to see the pattern. Build these up from our earlier operators, just apply them to the specific particle by including them in the tensor product at that position.\n",
        "\nNext we will do some example calculations."
      ],
      "metadata": {}
    },
    {
      "cell_type": "markdown",
      "source": [
        "### Example: find the probability of measuring a horizontal idler photon if the system is prepared in the state $|HH\\rangle$"
      ],
      "metadata": {}
    },
    {
      "cell_type": "code",
      "source": [
        "HH.dag()*Ph_i*HH"
      ],
      "outputs": [
        {
          "output_type": "execute_result",
          "execution_count": 15,
          "data": {
            "text/plain": [
              "Quantum object: dims = [[1], [1]], shape = (1, 1), type = bra\n",
              "Qobj data =\n",
              "[[ 1.]]"
            ],
            "text/latex": [
              "Quantum object: dims = [[1], [1]], shape = (1, 1), type = bra\\begin{equation*}\\left(\\begin{array}{*{11}c}1.0\\\\\\end{array}\\right)\\end{equation*}"
            ]
          },
          "metadata": {}
        }
      ],
      "execution_count": 15,
      "metadata": {
        "collapsed": false
      }
    },
    {
      "cell_type": "markdown",
      "source": [
        "### Example: find the probability of measuring a horizontal idler photon in the state $|\\psi\\rangle = |H,+45\\rangle$"
      ],
      "metadata": {}
    },
    {
      "cell_type": "code",
      "source": [
        "psi = tensor(H,P45)  # the prepared state"
      ],
      "outputs": [],
      "execution_count": 16,
      "metadata": {
        "collapsed": false
      }
    },
    {
      "cell_type": "code",
      "source": [
        "psi.dag()*Ph_i*psi"
      ],
      "outputs": [
        {
          "output_type": "execute_result",
          "execution_count": 17,
          "data": {
            "text/plain": [
              "Quantum object: dims = [[1], [1]], shape = (1, 1), type = bra\n",
              "Qobj data =\n",
              "[[ 0.5]]"
            ],
            "text/latex": [
              "Quantum object: dims = [[1], [1]], shape = (1, 1), type = bra\\begin{equation*}\\left(\\begin{array}{*{11}c}0.500\\\\\\end{array}\\right)\\end{equation*}"
            ]
          },
          "metadata": {}
        }
      ],
      "execution_count": 17,
      "metadata": {
        "collapsed": false
      }
    },
    {
      "cell_type": "markdown",
      "source": [
        "### Example 8.2 prob. of measuring vertical signal and horizontal idler if $|\\psi\\rangle = |R,+45\\rangle$"
      ],
      "metadata": {}
    },
    {
      "cell_type": "code",
      "source": [
        "# First, form the prepared state:\n",
        "psi = tensor(R,P45)\n",
        "\n",
        "# Then create the projection operator for the state we are asking about:\n",
        "projection = VH*VH.dag()\n",
        "\n",
        "# Finally, calculate the probability by computing the bra-ket:\n",
        "psi.dag()*projection*psi"
      ],
      "outputs": [
        {
          "output_type": "execute_result",
          "execution_count": 19,
          "data": {
            "text/plain": [
              "Quantum object: dims = [[1], [1]], shape = (1, 1), type = bra\n",
              "Qobj data =\n",
              "[[ 0.25]]"
            ],
            "text/latex": [
              "Quantum object: dims = [[1], [1]], shape = (1, 1), type = bra\\begin{equation*}\\left(\\begin{array}{*{11}c}0.250\\\\\\end{array}\\right)\\end{equation*}"
            ]
          },
          "metadata": {}
        }
      ],
      "execution_count": 19,
      "metadata": {
        "collapsed": false
      }
    },
    {
      "cell_type": "markdown",
      "source": [
        "## Entangled states:\n",
        "\nA very interesting system can be set up where there are paired photons being created with unknown but correlated polarization. In this case, we can say the state is in a combination of $|HH\\rangle$ and $|VV\\rangle$. If either two-photon state is allowed, then the normalized state is $$\\big|\\phi^+\\big\\rangle = \\frac{1}{\\sqrt{2}}\\big( \\big|HH\\big\\rangle + \\big|VV\\big\\rangle \\big)$$"
      ],
      "metadata": {}
    },
    {
      "cell_type": "code",
      "source": [
        "phiPlus = 1/sqrt(2)*(HH + VV)"
      ],
      "outputs": [],
      "execution_count": 20,
      "metadata": {
        "collapsed": false
      }
    },
    {
      "cell_type": "code",
      "source": [
        "phiPlus.dag()*Ph_i*phiPlus  # probability of measuring a horizontal idler photon:"
      ],
      "outputs": [
        {
          "output_type": "execute_result",
          "execution_count": 21,
          "data": {
            "text/plain": [
              "Quantum object: dims = [[1], [1]], shape = (1, 1), type = bra\n",
              "Qobj data =\n",
              "[[ 0.5]]"
            ],
            "text/latex": [
              "Quantum object: dims = [[1], [1]], shape = (1, 1), type = bra\\begin{equation*}\\left(\\begin{array}{*{11}c}0.500\\\\\\end{array}\\right)\\end{equation*}"
            ]
          },
          "metadata": {}
        }
      ],
      "execution_count": 21,
      "metadata": {
        "collapsed": false
      }
    },
    {
      "cell_type": "markdown",
      "source": [
        "This is expected, because the HH state has 50% of the probability amplitude. Same for a horizontal signal photon:"
      ],
      "metadata": {}
    },
    {
      "cell_type": "code",
      "source": [
        "phiPlus.dag()*Ph_s*phiPlus  # probability of measuring a horizontal signal photon"
      ],
      "outputs": [
        {
          "output_type": "execute_result",
          "execution_count": 22,
          "data": {
            "text/plain": [
              "Quantum object: dims = [[1], [1]], shape = (1, 1), type = bra\n",
              "Qobj data =\n",
              "[[ 0.5]]"
            ],
            "text/latex": [
              "Quantum object: dims = [[1], [1]], shape = (1, 1), type = bra\\begin{equation*}\\left(\\begin{array}{*{11}c}0.500\\\\\\end{array}\\right)\\end{equation*}"
            ]
          },
          "metadata": {}
        }
      ],
      "execution_count": 22,
      "metadata": {
        "collapsed": false
      }
    },
    {
      "cell_type": "markdown",
      "source": [
        "## Now, find $P(H_s|H_i)$ (Example 8.5)"
      ],
      "metadata": {}
    },
    {
      "cell_type": "code",
      "source": [
        "# Projection operator for H idler and H signal:\n",
        "phh = HH*HH.dag()\n",
        "phiPlus.dag()*phh*phiPlus"
      ],
      "outputs": [
        {
          "output_type": "execute_result",
          "execution_count": 23,
          "data": {
            "text/plain": [
              "Quantum object: dims = [[1], [1]], shape = (1, 1), type = bra\n",
              "Qobj data =\n",
              "[[ 0.5]]"
            ],
            "text/latex": [
              "Quantum object: dims = [[1], [1]], shape = (1, 1), type = bra\\begin{equation*}\\left(\\begin{array}{*{11}c}0.500\\\\\\end{array}\\right)\\end{equation*}"
            ]
          },
          "metadata": {}
        }
      ],
      "execution_count": 23,
      "metadata": {
        "collapsed": false
      }
    },
    {
      "cell_type": "code",
      "source": [
        "# Projection operator for H idler\n",
        "Pih = tensor(qeye(2),H*H.dag())\n",
        "phiPlus.dag()*Pih*phiPlus"
      ],
      "outputs": [
        {
          "output_type": "execute_result",
          "execution_count": 25,
          "data": {
            "text/plain": [
              "Quantum object: dims = [[1], [1]], shape = (1, 1), type = bra\n",
              "Qobj data =\n",
              "[[ 0.5]]"
            ],
            "text/latex": [
              "Quantum object: dims = [[1], [1]], shape = (1, 1), type = bra\\begin{equation*}\\left(\\begin{array}{*{11}c}0.500\\\\\\end{array}\\right)\\end{equation*}"
            ]
          },
          "metadata": {}
        }
      ],
      "execution_count": 25,
      "metadata": {
        "collapsed": false
      }
    },
    {
      "cell_type": "markdown",
      "source": [
        "$P(H_s|H_i) = \\frac{P(H_s,H_i)}{P(H_i)}$"
      ],
      "metadata": {}
    },
    {
      "cell_type": "code",
      "source": [
        "0.5/0.5"
      ],
      "outputs": [
        {
          "output_type": "execute_result",
          "execution_count": 26,
          "data": {
            "text/plain": [
              "1.0"
            ]
          },
          "metadata": {}
        }
      ],
      "execution_count": 26,
      "metadata": {
        "collapsed": false
      }
    },
    {
      "cell_type": "markdown",
      "source": [
        "Guaranteed to measure a horizontal signal photon whenever a horizontal idler photon is measured. What about vertical? Find the conditional probability of measuring a vertical signal photon if the idler photon is found to be vertical:"
      ],
      "metadata": {}
    },
    {
      "cell_type": "code",
      "source": [],
      "outputs": [],
      "execution_count": 26,
      "metadata": {
        "collapsed": true
      }
    },
    {
      "cell_type": "markdown",
      "source": [
        "Now, measure a different basis (use the +45 states) to show that the photons are always found in the same polarization even when measured at a different angle:"
      ],
      "metadata": {}
    },
    {
      "cell_type": "code",
      "source": [
        "# Solution\n",
        "\n",
        "# Probability that signal is +45 and idler +45\n",
        "Pp45p45 = tensor(P45,P45) * tensor(P45,P45).dag()\n",
        "phiPlus.dag()*Pp45p45*phiPlus"
      ],
      "outputs": [
        {
          "output_type": "execute_result",
          "execution_count": 31,
          "data": {
            "text/latex": [
              "Quantum object: dims = [[1], [1]], shape = [1, 1], type = oper, isherm = True\\begin{equation*}\\left(\\begin{array}{*{11}c}0.500\\\\\\end{array}\\right)\\end{equation*}"
            ],
            "text/plain": [
              "Quantum object: dims = [[1], [1]], shape = [1, 1], type = oper, isherm = True\n",
              "Qobj data =\n",
              "[[ 0.5]]"
            ]
          },
          "metadata": {}
        }
      ],
      "execution_count": 31,
      "metadata": {
        "collapsed": false
      }
    },
    {
      "cell_type": "code",
      "source": [
        "# Solution\n",
        "\n",
        "# Probability that the idler is +45 regardless of the signal\n",
        "Pp45i = tensor(qeye(2),P45) * tensor(qeye(2),P45).dag()\n",
        "phiPlus.dag()*Pp45i*phiPlus"
      ],
      "outputs": [
        {
          "output_type": "execute_result",
          "execution_count": 33,
          "data": {
            "text/latex": [
              "Quantum object: dims = [[1], [1]], shape = [1, 1], type = oper, isherm = True\\begin{equation*}\\left(\\begin{array}{*{11}c}0.500\\\\\\end{array}\\right)\\end{equation*}"
            ],
            "text/plain": [
              "Quantum object: dims = [[1], [1]], shape = [1, 1], type = oper, isherm = True\n",
              "Qobj data =\n",
              "[[ 0.5]]"
            ]
          },
          "metadata": {}
        }
      ],
      "execution_count": 33,
      "metadata": {
        "collapsed": false
      }
    },
    {
      "cell_type": "markdown",
      "source": [
        "Finally, to really drive this odd point home, show that they are **never** found in the $\\big|+45,-45\\big\\rangle$ state:"
      ],
      "metadata": {}
    },
    {
      "cell_type": "code",
      "source": [
        "# Solution\n",
        "\n",
        "# Probability that they are in different 45 states:\n",
        "Pp45m45 = tensor(P45,M45) * tensor(P45,M45).dag()\n",
        "\nphiPlus.dag()*Pp45m45*phiPlus"
      ],
      "outputs": [
        {
          "output_type": "execute_result",
          "execution_count": 34,
          "data": {
            "text/latex": [
              "Quantum object: dims = [[1], [1]], shape = [1, 1], type = oper, isherm = True\\begin{equation*}\\left(\\begin{array}{*{11}c}0.0\\\\\\end{array}\\right)\\end{equation*}"
            ],
            "text/plain": [
              "Quantum object: dims = [[1], [1]], shape = [1, 1], type = oper, isherm = True\n",
              "Qobj data =\n",
              "[[ 0.]]"
            ]
          },
          "metadata": {}
        }
      ],
      "execution_count": 34,
      "metadata": {
        "collapsed": false
      }
    },
    {
      "cell_type": "markdown",
      "source": [
        "## Using these states solve problems 8.2, 8.3, 8.7, 8.8"
      ],
      "metadata": {}
    },
    {
      "cell_type": "code",
      "source": [],
      "outputs": [],
      "execution_count": null,
      "metadata": {
        "collapsed": false
      }
    }
  ],
  "metadata": {
    "kernelspec": {
      "name": "python3",
      "language": "python",
      "display_name": "Python 3"
    },
    "language_info": {
      "name": "python",
      "version": "3.6.3",
      "mimetype": "text/x-python",
      "codemirror_mode": {
        "name": "ipython",
        "version": 3
      },
      "pygments_lexer": "ipython3",
      "nbconvert_exporter": "python",
      "file_extension": ".py"
    },
    "kernel_info": {
      "name": "python3"
    },
    "nteract": {
      "version": "0.8.4"
    }
  },
  "nbformat": 4,
  "nbformat_minor": 0
}