{
  "cells": [
    {
      "cell_type": "markdown",
      "source": [
        "# Chapter 12 - Simple Harmonic Oscillator\n",
        "Several examples that make use of the built-in Simple Harmonic Oscillator tools:"
      ],
      "metadata": {}
    },
    {
      "cell_type": "code",
      "source": [
        "from numpy import sqrt,linspace\n",
        "from qutip import *\n",
        "import matplotlib.pyplot as plt\n",
        "%matplotlib inline"
      ],
      "outputs": [],
      "execution_count": 2,
      "metadata": {
        "collapsed": false
      }
    },
    {
      "cell_type": "code",
      "source": [
        "N = 20 # size of the Hilbert space.\n",
        "       # N needs to be large enough that matrix is not truncated\n",
        "a = destroy(N)\n",
        "n = a.dag()*a"
      ],
      "outputs": [],
      "execution_count": 3,
      "metadata": {
        "collapsed": false
      }
    },
    {
      "cell_type": "markdown",
      "source": [
        "Define a coherent state with $\\alpha = 2:$"
      ],
      "metadata": {}
    },
    {
      "cell_type": "code",
      "source": [
        "psi = coherent(N,2)"
      ],
      "outputs": [],
      "execution_count": 4,
      "metadata": {
        "collapsed": false
      }
    },
    {
      "cell_type": "markdown",
      "source": [
        "Expectation value $\\langle n\\rangle$:"
      ],
      "metadata": {}
    },
    {
      "cell_type": "code",
      "source": [
        "psi.dag()*n*psi"
      ],
      "outputs": [
        {
          "output_type": "execute_result",
          "execution_count": 5,
          "data": {
            "text/plain": [
              "Quantum object: dims = [[1], [1]], shape = (1, 1), type = bra\n",
              "Qobj data =\n",
              "[[ 3.99999999]]"
            ],
            "text/latex": [
              "Quantum object: dims = [[1], [1]], shape = (1, 1), type = bra\\begin{equation*}\\left(\\begin{array}{*{11}c}4.000\\\\\\end{array}\\right)\\end{equation*}"
            ]
          },
          "metadata": {}
        }
      ],
      "execution_count": 5,
      "metadata": {
        "collapsed": false
      }
    },
    {
      "cell_type": "code",
      "source": [
        "# Convert to a density matrix:\n",
        "psi_dm = ket2dm(psi)"
      ],
      "outputs": [],
      "execution_count": 6,
      "metadata": {
        "collapsed": false
      }
    },
    {
      "cell_type": "code",
      "source": [
        "# Fock state distribution of the coherent state:\n",
        "plot_fock_distribution(psi_dm)"
      ],
      "outputs": [
        {
          "output_type": "execute_result",
          "execution_count": 7,
          "data": {
            "text/plain": [
              "(<matplotlib.figure.Figure at 0x118750e48>,\n",
              " <matplotlib.axes._subplots.AxesSubplot at 0x11875cc50>)"
            ]
          },
          "metadata": {}
        },
        {
          "output_type": "display_data",
          "data": {
            "text/plain": [
              "<matplotlib.figure.Figure at 0x118750e48>"
            ],
            "image/png": "[encoded data removed]"
          },
          "metadata": {}
        }
      ],
      "execution_count": 7,
      "metadata": {
        "collapsed": false
      }
    },
    {
      "cell_type": "markdown",
      "source": [
        "Also look at other coherent states:"
      ],
      "metadata": {}
    },
    {
      "cell_type": "code",
      "source": [
        "# With larger N and α:\n",
        "plot_fock_distribution(coherent_dm(40,4))"
      ],
      "outputs": [
        {
          "output_type": "execute_result",
          "execution_count": 13,
          "data": {
            "text/plain": [
              "(<matplotlib.figure.Figure at 0x123f2fda0>,\n",
              " <matplotlib.axes._subplots.AxesSubplot at 0x1240c9080>)"
            ]
          },
          "metadata": {}
        },
        {
          "output_type": "display_data",
          "data": {
            "text/plain": [
              "<matplotlib.figure.Figure at 0x123f2fda0>"
            ],
            "image/png": "[encoded data removed]"
          },
          "metadata": {}
        }
      ],
      "execution_count": 13,
      "metadata": {
        "collapsed": false
      }
    },
    {
      "cell_type": "markdown",
      "source": [
        "And some other density matrices, like a fock-state (or n eigenstate):"
      ],
      "metadata": {}
    },
    {
      "cell_type": "code",
      "source": [
        "# With a Fock state (number state):\n",
        "plot_fock_distribution(fock_dm(20,2))"
      ],
      "outputs": [
        {
          "output_type": "execute_result",
          "execution_count": 15,
          "data": {
            "text/plain": [
              "(<matplotlib.figure.Figure at 0x124ab5828>,\n",
              " <matplotlib.axes._subplots.AxesSubplot at 0x124d4d2e8>)"
            ]
          },
          "metadata": {}
        },
        {
          "output_type": "display_data",
          "data": {
            "text/plain": [
              "<matplotlib.figure.Figure at 0x124ab5828>"
            ],
            "image/png": "[encoded data removed]"
          },
          "metadata": {}
        }
      ],
      "execution_count": 15,
      "metadata": {
        "collapsed": false
      }
    },
    {
      "cell_type": "markdown",
      "source": [
        "And a thermal state:"
      ],
      "metadata": {}
    },
    {
      "cell_type": "code",
      "source": [
        "# A thermal state has decaying amplitudes\n",
        "plot_fock_distribution(thermal_dm(20,2))"
      ],
      "outputs": [
        {
          "output_type": "execute_result",
          "execution_count": 16,
          "data": {
            "text/plain": [
              "(<matplotlib.figure.Figure at 0x124a1c2b0>,\n",
              " <matplotlib.axes._subplots.AxesSubplot at 0x124e6beb8>)"
            ]
          },
          "metadata": {}
        },
        {
          "output_type": "display_data",
          "data": {
            "text/plain": [
              "<matplotlib.figure.Figure at 0x124a1c2b0>"
            ],
            "image/png": "[encoded data removed]"
          },
          "metadata": {}
        }
      ],
      "execution_count": 16,
      "metadata": {
        "collapsed": false
      }
    },
    {
      "cell_type": "markdown",
      "source": [
        "## Finally, can visualize the phasor using what is called the Wigner function:"
      ],
      "metadata": {}
    },
    {
      "cell_type": "code",
      "source": [
        "xvec = linspace(-10,10,200) # Create an array for the phase space coordinates.\n",
        "plt.imshow(wigner(coherent_dm(40,2),xvec,xvec), extent=[-10,10,-10,10]) # contour plot of Wigner function"
      ],
      "outputs": [
        {
          "output_type": "execute_result",
          "execution_count": 35,
          "data": {
            "text/plain": [
              "<matplotlib.image.AxesImage at 0x128fda828>"
            ]
          },
          "metadata": {}
        },
        {
          "output_type": "display_data",
          "data": {
            "text/plain": [
              "<matplotlib.figure.Figure at 0x128f25c18>"
            ],
            "image/png": "[encoded data removed]"
          },
          "metadata": {}
        }
      ],
      "execution_count": 35,
      "metadata": {
        "collapsed": false
      }
    },
    {
      "cell_type": "code",
      "source": [],
      "outputs": [],
      "execution_count": null,
      "metadata": {
        "collapsed": false,
        "outputHidden": false,
        "inputHidden": false
      }
    }
  ],
  "metadata": {
    "kernelspec": {
      "name": "python3",
      "language": "python",
      "display_name": "Python 3"
    },
    "language_info": {
      "name": "python",
      "version": "3.6.3",
      "mimetype": "text/x-python",
      "codemirror_mode": {
        "name": "ipython",
        "version": 3
      },
      "pygments_lexer": "ipython3",
      "nbconvert_exporter": "python",
      "file_extension": ".py"
    },
    "kernel_info": {
      "name": "python3"
    },
    "nteract": {
      "version": "0.8.4"
    }
  },
  "nbformat": 4,
  "nbformat_minor": 0
}