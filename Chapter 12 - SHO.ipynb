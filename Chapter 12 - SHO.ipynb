{
 "cells": [
  {
   "cell_type": "markdown",
   "metadata": {},
   "source": [
    "# Chapter 12 - Simple Harmonic Oscillator\n",
    "Several examples that make use of the built-in Simple Harmonic Oscillator tools:"
   ]
  },
  {
   "cell_type": "code",
   "execution_count": 32,
   "metadata": {},
   "outputs": [],
   "source": [
    "from numpy import sqrt,linspace,exp\n",
    "from qutip import *\n",
    "import matplotlib.pyplot as plt\n",
    "%matplotlib inline"
   ]
  },
  {
   "cell_type": "code",
   "execution_count": 9,
   "metadata": {},
   "outputs": [],
   "source": [
    "N = 40 # size of the Hilbert space.\n",
    "       # N needs to be large enough that matrix is not truncated\n",
    "a = destroy(N)\n",
    "n = a.dag()*a"
   ]
  },
  {
   "cell_type": "markdown",
   "metadata": {},
   "source": [
    "Define a coherent state with $\\alpha = 2:$"
   ]
  },
  {
   "cell_type": "code",
   "execution_count": 17,
   "metadata": {},
   "outputs": [],
   "source": [
    "psi = coherent(N,1)"
   ]
  },
  {
   "cell_type": "code",
   "execution_count": 18,
   "metadata": {},
   "outputs": [
    {
     "data": {
      "text/latex": [
       "Quantum object: dims = [[40], [1]], shape = (40, 1), type = ket\\begin{equation*}\\left(\\begin{array}{*{11}c}0.607\\\\0.607\\\\0.429\\\\0.248\\\\0.124\\\\\\vdots\\\\0.0\\\\0.0\\\\0.0\\\\0.0\\\\0.0\\\\\\end{array}\\right)\\end{equation*}"
      ],
      "text/plain": [
       "Quantum object: dims = [[40], [1]], shape = (40, 1), type = ket\n",
       "Qobj data =\n",
       "[[  6.06530660e-01]\n",
       " [  6.06530660e-01]\n",
       " [  4.28881942e-01]\n",
       " [  2.47615105e-01]\n",
       " [  1.23807552e-01]\n",
       " [  5.53684207e-02]\n",
       " [  2.26040631e-02]\n",
       " [  8.54353279e-03]\n",
       " [  3.02059499e-03]\n",
       " [  1.00686500e-03]\n",
       " [  3.18398668e-04]\n",
       " [  9.60008106e-05]\n",
       " [  2.77130469e-05]\n",
       " [  7.68621628e-06]\n",
       " [  2.05422771e-06]\n",
       " [  5.30399314e-07]\n",
       " [  1.32599828e-07]\n",
       " [  3.21601823e-08]\n",
       " [  7.58022766e-09]\n",
       " [  1.73902349e-09]\n",
       " [  3.88857474e-10]\n",
       " [  8.48556576e-11]\n",
       " [  1.80912870e-11]\n",
       " [  3.77229410e-12]\n",
       " [  0.00000000e+00]\n",
       " [  0.00000000e+00]\n",
       " [  0.00000000e+00]\n",
       " [  0.00000000e+00]\n",
       " [  0.00000000e+00]\n",
       " [  0.00000000e+00]\n",
       " [  0.00000000e+00]\n",
       " [  0.00000000e+00]\n",
       " [  0.00000000e+00]\n",
       " [  0.00000000e+00]\n",
       " [  0.00000000e+00]\n",
       " [  0.00000000e+00]\n",
       " [  0.00000000e+00]\n",
       " [  0.00000000e+00]\n",
       " [  0.00000000e+00]\n",
       " [  0.00000000e+00]]"
      ]
     },
     "execution_count": 18,
     "metadata": {},
     "output_type": "execute_result"
    }
   ],
   "source": [
    "psi"
   ]
  },
  {
   "cell_type": "markdown",
   "metadata": {},
   "source": [
    "Expectation value $\\langle n\\rangle$:"
   ]
  },
  {
   "cell_type": "code",
   "execution_count": 19,
   "metadata": {},
   "outputs": [
    {
     "data": {
      "text/latex": [
       "Quantum object: dims = [[1], [1]], shape = (1, 1), type = bra\\begin{equation*}\\left(\\begin{array}{*{11}c}1.000\\\\\\end{array}\\right)\\end{equation*}"
      ],
      "text/plain": [
       "Quantum object: dims = [[1], [1]], shape = (1, 1), type = bra\n",
       "Qobj data =\n",
       "[[ 1.]]"
      ]
     },
     "execution_count": 19,
     "metadata": {},
     "output_type": "execute_result"
    }
   ],
   "source": [
    "psi.dag()*n*psi"
   ]
  },
  {
   "cell_type": "code",
   "execution_count": 20,
   "metadata": {},
   "outputs": [],
   "source": [
    "# Convert to a density matrix:\n",
    "psi_dm = ket2dm(psi)"
   ]
  },
  {
   "cell_type": "code",
   "execution_count": 21,
   "metadata": {},
   "outputs": [
    {
     "data": {
      "text/latex": [
       "Quantum object: dims = [[40], [40]], shape = (40, 40), type = oper, isherm = True\\begin{equation*}\\left(\\begin{array}{*{11}c}0.368 & 0.368 & 0.260 & 0.150 & 0.075 & \\cdots & 0.0 & 0.0 & 0.0 & 0.0 & 0.0\\\\0.368 & 0.368 & 0.260 & 0.150 & 0.075 & \\cdots & 0.0 & 0.0 & 0.0 & 0.0 & 0.0\\\\0.260 & 0.260 & 0.184 & 0.106 & 0.053 & \\cdots & 0.0 & 0.0 & 0.0 & 0.0 & 0.0\\\\0.150 & 0.150 & 0.106 & 0.061 & 0.031 & \\cdots & 0.0 & 0.0 & 0.0 & 0.0 & 0.0\\\\0.075 & 0.075 & 0.053 & 0.031 & 0.015 & \\cdots & 0.0 & 0.0 & 0.0 & 0.0 & 0.0\\\\\\vdots & \\vdots & \\vdots & \\vdots & \\vdots & \\ddots & \\vdots & \\vdots & \\vdots & \\vdots & \\vdots\\\\0.0 & 0.0 & 0.0 & 0.0 & 0.0 & \\cdots & 0.0 & 0.0 & 0.0 & 0.0 & 0.0\\\\0.0 & 0.0 & 0.0 & 0.0 & 0.0 & \\cdots & 0.0 & 0.0 & 0.0 & 0.0 & 0.0\\\\0.0 & 0.0 & 0.0 & 0.0 & 0.0 & \\cdots & 0.0 & 0.0 & 0.0 & 0.0 & 0.0\\\\0.0 & 0.0 & 0.0 & 0.0 & 0.0 & \\cdots & 0.0 & 0.0 & 0.0 & 0.0 & 0.0\\\\0.0 & 0.0 & 0.0 & 0.0 & 0.0 & \\cdots & 0.0 & 0.0 & 0.0 & 0.0 & 0.0\\\\\\end{array}\\right)\\end{equation*}"
      ],
      "text/plain": [
       "Quantum object: dims = [[40], [40]], shape = (40, 40), type = oper, isherm = True\n",
       "Qobj data =\n",
       "[[ 0.36787944  0.36787944  0.26013005 ...,  0.          0.          0.        ]\n",
       " [ 0.36787944  0.36787944  0.26013005 ...,  0.          0.          0.        ]\n",
       " [ 0.26013005  0.26013005  0.18393972 ...,  0.          0.          0.        ]\n",
       " ..., \n",
       " [ 0.          0.          0.         ...,  0.          0.          0.        ]\n",
       " [ 0.          0.          0.         ...,  0.          0.          0.        ]\n",
       " [ 0.          0.          0.         ...,  0.          0.          0.        ]]"
      ]
     },
     "execution_count": 21,
     "metadata": {},
     "output_type": "execute_result"
    }
   ],
   "source": [
    "psi*psi.dag()"
   ]
  },
  {
   "cell_type": "code",
   "execution_count": 22,
   "metadata": {},
   "outputs": [
    {
     "data": {
      "text/plain": [
       "(<matplotlib.figure.Figure at 0x11a2f3358>,\n",
       " <matplotlib.axes._subplots.AxesSubplot at 0x11a3396d8>)"
      ]
     },
     "execution_count": 22,
     "metadata": {},
     "output_type": "execute_result"
    },
    {
     "data": {
      "image/png": "[encoded data removed]",
      "text/plain": [
       "<matplotlib.figure.Figure at 0x11a2f3358>"
      ]
     },
     "metadata": {},
     "output_type": "display_data"
    }
   ],
   "source": [
    "# Fock state distribution of the coherent state:\n",
    "plot_fock_distribution(psi_dm)"
   ]
  },
  {
   "cell_type": "markdown",
   "metadata": {},
   "source": [
    "Also look at other coherent states:"
   ]
  },
  {
   "cell_type": "code",
   "execution_count": 25,
   "metadata": {},
   "outputs": [
    {
     "data": {
      "text/plain": [
       "(<matplotlib.figure.Figure at 0x11a549ef0>,\n",
       " <matplotlib.axes._subplots.AxesSubplot at 0x11a8247b8>)"
      ]
     },
     "execution_count": 25,
     "metadata": {},
     "output_type": "execute_result"
    },
    {
     "data": {
      "image/png": "[encoded data removed]",
      "text/plain": [
       "<matplotlib.figure.Figure at 0x11a549ef0>"
      ]
     },
     "metadata": {},
     "output_type": "display_data"
    }
   ],
   "source": [
    "# With larger N and α:\n",
    "plot_fock_distribution(coherent_dm(100,6))"
   ]
  },
  {
   "cell_type": "markdown",
   "metadata": {},
   "source": [
    "And some other density matrices, like a fock-state (or n eigenstate):"
   ]
  },
  {
   "cell_type": "code",
   "execution_count": 26,
   "metadata": {},
   "outputs": [
    {
     "data": {
      "text/plain": [
       "(<matplotlib.figure.Figure at 0x1022aa5c0>,\n",
       " <matplotlib.axes._subplots.AxesSubplot at 0x1022f9940>)"
      ]
     },
     "execution_count": 26,
     "metadata": {},
     "output_type": "execute_result"
    },
    {
     "data": {
      "image/png": "[encoded data removed]",
      "text/plain": [
       "<matplotlib.figure.Figure at 0x1022aa5c0>"
      ]
     },
     "metadata": {},
     "output_type": "display_data"
    }
   ],
   "source": [
    "# With a Fock state (number state):\n",
    "plot_fock_distribution(fock_dm(20,2))"
   ]
  },
  {
   "cell_type": "code",
   "execution_count": 27,
   "metadata": {},
   "outputs": [
    {
     "data": {
      "text/latex": [
       "Quantum object: dims = [[20], [1]], shape = (20, 1), type = ket\\begin{equation*}\\left(\\begin{array}{*{11}c}0.0\\\\0.0\\\\1.0\\\\0.0\\\\0.0\\\\\\vdots\\\\0.0\\\\0.0\\\\0.0\\\\0.0\\\\0.0\\\\\\end{array}\\right)\\end{equation*}"
      ],
      "text/plain": [
       "Quantum object: dims = [[20], [1]], shape = (20, 1), type = ket\n",
       "Qobj data =\n",
       "[[ 0.]\n",
       " [ 0.]\n",
       " [ 1.]\n",
       " [ 0.]\n",
       " [ 0.]\n",
       " [ 0.]\n",
       " [ 0.]\n",
       " [ 0.]\n",
       " [ 0.]\n",
       " [ 0.]\n",
       " [ 0.]\n",
       " [ 0.]\n",
       " [ 0.]\n",
       " [ 0.]\n",
       " [ 0.]\n",
       " [ 0.]\n",
       " [ 0.]\n",
       " [ 0.]\n",
       " [ 0.]\n",
       " [ 0.]]"
      ]
     },
     "execution_count": 27,
     "metadata": {},
     "output_type": "execute_result"
    }
   ],
   "source": [
    "fock(20,2)"
   ]
  },
  {
   "cell_type": "markdown",
   "metadata": {},
   "source": [
    "And a thermal state:"
   ]
  },
  {
   "cell_type": "code",
   "execution_count": 16,
   "metadata": {},
   "outputs": [
    {
     "data": {
      "text/plain": [
       "(<matplotlib.figure.Figure at 0x124a1c2b0>,\n",
       " <matplotlib.axes._subplots.AxesSubplot at 0x124e6beb8>)"
      ]
     },
     "execution_count": 16,
     "metadata": {},
     "output_type": "execute_result"
    },
    {
     "data": {
      "image/png": "[encoded data removed]",
      "text/plain": [
       "<matplotlib.figure.Figure at 0x124a1c2b0>"
      ]
     },
     "metadata": {},
     "output_type": "display_data"
    }
   ],
   "source": [
    "# A thermal state has decaying amplitudes\n",
    "plot_fock_distribution(thermal_dm(20,2))"
   ]
  },
  {
   "cell_type": "markdown",
   "metadata": {},
   "source": [
    "## Finally, can visualize the phasor using what is called the Wigner function:"
   ]
  },
  {
   "cell_type": "code",
   "execution_count": 41,
   "metadata": {},
   "outputs": [
    {
     "data": {
      "text/plain": [
       "<matplotlib.image.AxesImage at 0x11c80bc50>"
      ]
     },
     "execution_count": 41,
     "metadata": {},
     "output_type": "execute_result"
    },
    {
     "data": {
      "image/png": "[encoded data removed]",
      "text/plain": [
       "<matplotlib.figure.Figure at 0x11c5d2470>"
      ]
     },
     "metadata": {},
     "output_type": "display_data"
    }
   ],
   "source": [
    "xvec = linspace(-10,10,200) # Create an array for the phase space coordinates.\n",
    "plt.imshow(wigner(coherent(40,5j)+coherent(40,-5j),xvec,xvec), extent=[-10,10,-10,10]) # contour plot of Wigner function"
   ]
  },
  {
   "cell_type": "code",
   "execution_count": 42,
   "metadata": {
    "inputHidden": false,
    "outputHidden": false
   },
   "outputs": [],
   "source": []
  },
  {
   "cell_type": "code",
   "execution_count": null,
   "metadata": {},
   "outputs": [],
   "source": []
  }
 ],
 "metadata": {
  "kernel_info": {
   "name": "python3"
  },
  "kernelspec": {
   "display_name": "Python 3",
   "language": "python",
   "name": "python3"
  },
  "language_info": {
   "codemirror_mode": {
    "name": "ipython",
    "version": 3
   },
   "file_extension": ".py",
   "mimetype": "text/x-python",
   "name": "python",
   "nbconvert_exporter": "python",
   "pygments_lexer": "ipython3",
   "version": "3.6.3"
  },
  "nteract": {
   "version": "0.8.4"
  }
 },
 "nbformat": 4,
 "nbformat_minor": 1
}
