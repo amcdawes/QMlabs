{
 "cells": [
  {
   "cell_type": "markdown",
   "metadata": {},
   "source": [
    "# Chapter 8 - Local Realism\n",
    "## with Alice and Bob"
   ]
  },
  {
   "cell_type": "code",
   "execution_count": 35,
   "metadata": {},
   "outputs": [],
   "source": [
    "from numpy import sin,cos,pi,sqrt,angle,exp,deg2rad,arange,rad2deg\n",
    "import matplotlib.pyplot as plt\n",
    "from qutip import *\n",
    "%matplotlib inline"
   ]
  },
  {
   "cell_type": "code",
   "execution_count": 2,
   "metadata": {},
   "outputs": [],
   "source": [
    "H = Qobj([[1],[0]])\n",
    "V = Qobj([[0],[1]])"
   ]
  },
  {
   "cell_type": "markdown",
   "metadata": {},
   "source": [
    "First define the projection operator for a state at angle $\\theta$:"
   ]
  },
  {
   "cell_type": "code",
   "execution_count": 3,
   "metadata": {},
   "outputs": [],
   "source": [
    "def P(theta):\n",
    "    \"\"\"The projection operator for a state at angle theta\"\"\"\n",
    "    theta_ket = cos(theta)*H + sin(theta)*V\n",
    "    return theta_ket*theta_ket.dag()"
   ]
  },
  {
   "cell_type": "markdown",
   "metadata": {},
   "source": [
    "Create the projection operators for each of the angles, two for Alice, two for Bob"
   ]
  },
  {
   "cell_type": "code",
   "execution_count": 4,
   "metadata": {},
   "outputs": [],
   "source": [
    "Pa1 = P(deg2rad(19))\n",
    "Pa2 = P(deg2rad(-35))\n",
    "Pb1 = P(deg2rad(-19))\n",
    "Pb2 = P(deg2rad(35))"
   ]
  },
  {
   "cell_type": "markdown",
   "metadata": {},
   "source": [
    "Create the state $\\big|\\psi\\big\\rangle = \\sqrt{0.2} \\big|H,H\\big\\rangle + \\sqrt{0.8} \\big|V,V\\big\\rangle$:"
   ]
  },
  {
   "cell_type": "code",
   "execution_count": 5,
   "metadata": {},
   "outputs": [],
   "source": [
    "psi=sqrt(0.2)*tensor(H,H) + sqrt(0.8)*tensor(V,V)"
   ]
  },
  {
   "cell_type": "markdown",
   "metadata": {},
   "source": [
    "Now, find the joint probability that Alice measures A1 and Bob measures B1. We do this by finding the expectation value of the projection operator for the joint state $\\big|\\theta_{A1},\\theta_{B1}\\big\\rangle$. This is formed as the tensor product of the two appropriate projection operators. **In these tensor products, be sure to put Alice's operator first, then Bob's (just like we did for the signal and idler photons).** Each operator acts on the photon corresponding to the order in the `tensor()` function.\n",
    "\n",
    "Notice we'll be using a new function `expect()`. This is equivalent to putting the operator in between the state bra and ket:"
   ]
  },
  {
   "cell_type": "code",
   "execution_count": 6,
   "metadata": {},
   "outputs": [
    {
     "data": {
      "text/plain": [
       "True"
      ]
     },
     "execution_count": 6,
     "metadata": {},
     "output_type": "execute_result"
    }
   ],
   "source": [
    "P1 = expect(tensor(Pa1,Pb1),psi)  # joint for A1, B1 (expect 0.09)\n",
    "P2 = psi.dag()*tensor(Pa1,Pb1)*psi\n",
    "P1 == P2.data[0,0]  # The only difference is that we have to pull out the value \n",
    "                    # from the Qobj using the .data[0,0] method so we can compare it to result from `expect`"
   ]
  },
  {
   "cell_type": "code",
   "execution_count": 7,
   "metadata": {},
   "outputs": [
    {
     "data": {
      "text/plain": [
       "0.09302920042790863"
      ]
     },
     "execution_count": 7,
     "metadata": {},
     "output_type": "execute_result"
    }
   ],
   "source": [
    "P1"
   ]
  },
  {
   "cell_type": "markdown",
   "metadata": {},
   "source": [
    "Find the conditional probability $P(\\theta_{B2}|\\theta_{A1}) = \\frac{P(\\theta_{B2},\\theta_{A1})}{P(\\theta_{A1})}$"
   ]
  },
  {
   "cell_type": "code",
   "execution_count": 8,
   "metadata": {},
   "outputs": [
    {
     "data": {
      "text/plain": [
       "0.999939256912056"
      ]
     },
     "execution_count": 8,
     "metadata": {},
     "output_type": "execute_result"
    }
   ],
   "source": [
    "# B2 conditioned on A1 (expect 1)\n",
    "Prob_b2_a1 = expect(tensor(Pa1,Pb2),psi)\n",
    "#(psi.dag()*tensor(Pa1,Pb2)*psi).data[0,0]   # the joint probability\n",
    "Prob_a1 = expect(tensor(Pa1,qeye(2)),psi)\n",
    "#(psi.dag()*tensor(Pa1,qeye(2))*psi).data[0,0]  # the singular probability\n",
    "Prob_b2a1 = Prob_b2_a1 / Prob_a1  # the conditional probability\n",
    "Prob_b2a1"
   ]
  },
  {
   "cell_type": "markdown",
   "metadata": {},
   "source": [
    "Find the conditional probability $P(\\theta_{A2}|\\theta_{B1}) = \\frac{P(\\theta_{A2},\\theta_{B1})}{P(\\theta_{B1})}$"
   ]
  },
  {
   "cell_type": "code",
   "execution_count": 9,
   "metadata": {},
   "outputs": [
    {
     "data": {
      "text/plain": [
       "0.999939256912056"
      ]
     },
     "execution_count": 9,
     "metadata": {},
     "output_type": "execute_result"
    }
   ],
   "source": [
    "# A2 conditioned on B1 (expect 1)\n",
    "# can do it all on one line:\n",
    "expect(tensor(Pa2,Pb1),psi) / expect(tensor(qeye(2),Pb1),psi)"
   ]
  },
  {
   "cell_type": "code",
   "execution_count": 10,
   "metadata": {},
   "outputs": [
    {
     "data": {
      "text/plain": [
       "3.39573005293161e-05"
      ]
     },
     "execution_count": 10,
     "metadata": {},
     "output_type": "execute_result"
    }
   ],
   "source": [
    "expect(tensor(Pa2,Pb2),psi)  # joint for A2, B2 (classically expect 0.09, QM says 0)"
   ]
  },
  {
   "cell_type": "markdown",
   "metadata": {},
   "source": [
    "This is what we described in class."
   ]
  },
  {
   "cell_type": "markdown",
   "metadata": {},
   "source": [
    "## What if the state was just $|H,H\\rangle$?"
   ]
  },
  {
   "cell_type": "code",
   "execution_count": 11,
   "metadata": {},
   "outputs": [],
   "source": [
    "psi2=tensor(H,H)"
   ]
  },
  {
   "cell_type": "code",
   "execution_count": 12,
   "metadata": {},
   "outputs": [
    {
     "data": {
      "text/plain": [
       "0.7992456137533195"
      ]
     },
     "execution_count": 12,
     "metadata": {},
     "output_type": "execute_result"
    }
   ],
   "source": [
    "expect(tensor(Pa1,Pb1),psi2)  # joint for A1, B1 (expect 0.09)"
   ]
  },
  {
   "cell_type": "code",
   "execution_count": 13,
   "metadata": {},
   "outputs": [
    {
     "data": {
      "text/plain": [
       "0.6710100716628343"
      ]
     },
     "execution_count": 13,
     "metadata": {},
     "output_type": "execute_result"
    }
   ],
   "source": [
    "# B2 conditioned on A1:\n",
    "expect(tensor(Pa1,Pb2),psi2) / expect(tensor(Pa1,qeye(2)),psi2)"
   ]
  },
  {
   "cell_type": "code",
   "execution_count": 14,
   "metadata": {},
   "outputs": [
    {
     "data": {
      "text/plain": [
       "0.6710100716628343"
      ]
     },
     "execution_count": 14,
     "metadata": {},
     "output_type": "execute_result"
    }
   ],
   "source": [
    "# A2 conditioned on B1 \n",
    "expect(tensor(Pa2,Pb1),psi2) / expect(tensor(qeye(2),Pb1),psi2)"
   ]
  },
  {
   "cell_type": "code",
   "execution_count": 15,
   "metadata": {},
   "outputs": [
    {
     "data": {
      "text/plain": [
       "0.45025451627296204"
      ]
     },
     "execution_count": 15,
     "metadata": {},
     "output_type": "execute_result"
    }
   ],
   "source": [
    "# joint for A2, B2\n",
    "expect(tensor(Pa2,Pb2),psi2)"
   ]
  },
  {
   "cell_type": "markdown",
   "metadata": {},
   "source": [
    "This is harder to interpret, but we clearly have different probabilities. Finally, check if we had used a mixed state:"
   ]
  },
  {
   "cell_type": "markdown",
   "metadata": {},
   "source": [
    "## A mixed state instead of the pure (entangled state).\n",
    "Here we have to use the density matrix (since a `ket` cannot describe a mixed state). First some background:\n",
    "QuTiP has a function that gives the density matrix from a `ket` state: `ket2dm`."
   ]
  },
  {
   "cell_type": "code",
   "execution_count": 16,
   "metadata": {},
   "outputs": [
    {
     "data": {
      "text/latex": [
       "Quantum object: dims = [[2, 2], [2, 2]], shape = [4, 4], type = oper, isherm = True\\begin{equation*}\\left(\\begin{array}{*{11}c}0.200 & 0.0 & 0.0 & 0.0\\\\0.0 & 0.0 & 0.0 & 0.0\\\\0.0 & 0.0 & 0.0 & 0.0\\\\0.0 & 0.0 & 0.0 & 0.800\\\\\\end{array}\\right)\\end{equation*}"
      ],
      "text/plain": [
       "Quantum object: dims = [[2, 2], [2, 2]], shape = [4, 4], type = oper, isherm = True\n",
       "Qobj data =\n",
       "[[ 0.2  0.   0.   0. ]\n",
       " [ 0.   0.   0.   0. ]\n",
       " [ 0.   0.   0.   0. ]\n",
       " [ 0.   0.   0.   0.8]]"
      ]
     },
     "execution_count": 16,
     "metadata": {},
     "output_type": "execute_result"
    }
   ],
   "source": [
    "rho_mix = 0.2 * ket2dm(tensor(H,H)) + 0.8 * ket2dm(tensor(V,V))\n",
    "rho_mix"
   ]
  },
  {
   "cell_type": "code",
   "execution_count": 17,
   "metadata": {},
   "outputs": [
    {
     "data": {
      "text/plain": [
       "0.1688370108679419"
      ]
     },
     "execution_count": 17,
     "metadata": {},
     "output_type": "execute_result"
    }
   ],
   "source": [
    "# joint for A1, B1\n",
    "expect(tensor(Pa1,Pb1),rho_mix)  "
   ]
  },
  {
   "cell_type": "code",
   "execution_count": 18,
   "metadata": {},
   "outputs": [
    {
     "data": {
      "text/plain": [
       "0.5609865818344059"
      ]
     },
     "execution_count": 18,
     "metadata": {},
     "output_type": "execute_result"
    }
   ],
   "source": [
    "# B2 conditioned on A1\n",
    "expect(tensor(Pa1,Pb2),rho_mix) / expect(tensor(Pa1,qeye(2)),rho_mix)"
   ]
  },
  {
   "cell_type": "code",
   "execution_count": 19,
   "metadata": {},
   "outputs": [
    {
     "data": {
      "text/plain": [
       "0.5609865818344059"
      ]
     },
     "execution_count": 19,
     "metadata": {},
     "output_type": "execute_result"
    }
   ],
   "source": [
    "# A2 conditioned on B1\n",
    "expect(tensor(Pa2,Pb1),rho_mix) / expect(tensor(Pb1,qeye(2)),rho_mix)"
   ]
  },
  {
   "cell_type": "code",
   "execution_count": 20,
   "metadata": {},
   "outputs": [
    {
     "data": {
      "text/plain": [
       "0.1766384016124271"
      ]
     },
     "execution_count": 20,
     "metadata": {},
     "output_type": "execute_result"
    }
   ],
   "source": [
    "# joint for A2, B2:\n",
    "expect(tensor(Pa2,Pb2),rho_mix)  "
   ]
  },
  {
   "cell_type": "markdown",
   "metadata": {},
   "source": [
    "We see that  $P(\\theta_{B2},\\theta_{A2}) >  P(\\theta_{B1},\\theta_{A1})$ as we said in class for a state that obeys realism."
   ]
  },
  {
   "cell_type": "markdown",
   "metadata": {},
   "source": [
    "## Now repeat with the pure state but using density matrix techniques.\n",
    "This isn't going to tell us anything new, but it shows how to work with the density matrix if you already know the `ket` state."
   ]
  },
  {
   "cell_type": "code",
   "execution_count": 21,
   "metadata": {},
   "outputs": [
    {
     "data": {
      "text/latex": [
       "Quantum object: dims = [[2, 2], [2, 2]], shape = [4, 4], type = oper, isherm = True\\begin{equation*}\\left(\\begin{array}{*{11}c}0.200 & 0.0 & 0.0 & 0.400\\\\0.0 & 0.0 & 0.0 & 0.0\\\\0.0 & 0.0 & 0.0 & 0.0\\\\0.400 & 0.0 & 0.0 & 0.800\\\\\\end{array}\\right)\\end{equation*}"
      ],
      "text/plain": [
       "Quantum object: dims = [[2, 2], [2, 2]], shape = [4, 4], type = oper, isherm = True\n",
       "Qobj data =\n",
       "[[ 0.2  0.   0.   0.4]\n",
       " [ 0.   0.   0.   0. ]\n",
       " [ 0.   0.   0.   0. ]\n",
       " [ 0.4  0.   0.   0.8]]"
      ]
     },
     "execution_count": 21,
     "metadata": {},
     "output_type": "execute_result"
    }
   ],
   "source": [
    "rho_pure = ket2dm(psi)  # convert from a ket to a density matrix (dm)\n",
    "rho_pure"
   ]
  },
  {
   "cell_type": "markdown",
   "metadata": {},
   "source": [
    "The calculations are actually the same in QuTiP, the `expect` function takes either a `ket` state or a density matrix."
   ]
  },
  {
   "cell_type": "code",
   "execution_count": 22,
   "metadata": {},
   "outputs": [
    {
     "data": {
      "text/plain": [
       "0.0930292004279086"
      ]
     },
     "execution_count": 22,
     "metadata": {},
     "output_type": "execute_result"
    }
   ],
   "source": [
    "# joint for A1, B1\n",
    "expect(tensor(Pa1,Pb1),rho_pure)  "
   ]
  },
  {
   "cell_type": "code",
   "execution_count": 23,
   "metadata": {},
   "outputs": [
    {
     "data": {
      "text/plain": [
       "0.999939256912056"
      ]
     },
     "execution_count": 23,
     "metadata": {},
     "output_type": "execute_result"
    }
   ],
   "source": [
    "# B2 conditioned on A1\n",
    "expect(tensor(Pa1,Pb2),rho_pure) / expect(tensor(Pa1,qeye(2)),rho_pure)"
   ]
  },
  {
   "cell_type": "code",
   "execution_count": 24,
   "metadata": {},
   "outputs": [
    {
     "data": {
      "text/plain": [
       "0.999939256912056"
      ]
     },
     "execution_count": 24,
     "metadata": {},
     "output_type": "execute_result"
    }
   ],
   "source": [
    "# A2 conditioned on B1\n",
    "expect(tensor(Pa2,Pb1),rho_pure) / expect(tensor(Pb1,qeye(2)),rho_pure)"
   ]
  },
  {
   "cell_type": "code",
   "execution_count": 25,
   "metadata": {},
   "outputs": [
    {
     "data": {
      "text/plain": [
       "3.3957300529310896e-05"
      ]
     },
     "execution_count": 25,
     "metadata": {},
     "output_type": "execute_result"
    }
   ],
   "source": [
    "# joint for A2, B2:\n",
    "expect(tensor(Pa2,Pb2),rho_pure)  "
   ]
  },
  {
   "cell_type": "markdown",
   "metadata": {},
   "source": [
    "These all agree (as they should)."
   ]
  },
  {
   "cell_type": "markdown",
   "metadata": {},
   "source": [
    "## Explore the angles in more detail:\n",
    "Why these angles, 19 and 35?"
   ]
  },
  {
   "cell_type": "code",
   "execution_count": 26,
   "metadata": {},
   "outputs": [],
   "source": [
    "psi=sqrt(0.2)*tensor(H,H) + sqrt(0.8)*tensor(V,V)"
   ]
  },
  {
   "cell_type": "code",
   "execution_count": 27,
   "metadata": {},
   "outputs": [],
   "source": [
    "angles = arange(1,90,1)"
   ]
  },
  {
   "cell_type": "code",
   "execution_count": 28,
   "metadata": {},
   "outputs": [],
   "source": [
    "rads = deg2rad(angles)"
   ]
  },
  {
   "cell_type": "markdown",
   "metadata": {},
   "source": [
    "Make a list of the probability of joint measurements for a pair of angles:"
   ]
  },
  {
   "cell_type": "code",
   "execution_count": 29,
   "metadata": {},
   "outputs": [
    {
     "data": {
      "text/plain": [
       "[<matplotlib.lines.Line2D at 0x110757710>]"
      ]
     },
     "execution_count": 29,
     "metadata": {},
     "output_type": "execute_result"
    },
    {
     "data": {
      "image/png": "[encoded data removed]",
      "text/plain": [
       "<matplotlib.figure.Figure at 0x10e2a0518>"
      ]
     },
     "metadata": {},
     "output_type": "display_data"
    }
   ],
   "source": [
    "out = []\n",
    "for r in rads:\n",
    "    out.append(expect(tensor(P(-r),P(r)),psi))\n",
    "\n",
    "plt.plot(angles,out,\".\") # plot in units of pi"
   ]
  },
  {
   "cell_type": "markdown",
   "metadata": {},
   "source": [
    "We see that the joint probabilities have a zero at 35˚. Now plug that in to one of the conditional probabilities and see what angle for the conditional probability gives 1:"
   ]
  },
  {
   "cell_type": "code",
   "execution_count": 30,
   "metadata": {},
   "outputs": [
    {
     "data": {
      "text/plain": [
       "[<matplotlib.lines.Line2D at 0x110c4ef60>]"
      ]
     },
     "execution_count": 30,
     "metadata": {},
     "output_type": "execute_result"
    },
    {
     "data": {
      "image/png": "[encoded data removed]",
      "text/plain": [
       "<matplotlib.figure.Figure at 0x1107a3f60>"
      ]
     },
     "metadata": {},
     "output_type": "display_data"
    }
   ],
   "source": [
    "out = []\n",
    "for r in rads:\n",
    "    out.append(expect(tensor(P(r),P(deg2rad(35))),psi) / expect(tensor(P(r),qeye(2)),psi))\n",
    "\n",
    "plt.plot(angles,out,\".\")"
   ]
  },
  {
   "cell_type": "markdown",
   "metadata": {},
   "source": [
    "So only 19 and 35 work. Now, can you derive 19 and 35 given only the state $|\\psi\\rangle$? Try the first plot, i.e. calculate the joint probability $P(\\theta_A,\\theta_B)$"
   ]
  },
  {
   "cell_type": "markdown",
   "metadata": {},
   "source": [
    "# Solution\n",
    "Using the state, write the projection operators for a two photon state with angles $\\theta_A$ and $\\theta_B$. First, recall $$\\big|\\theta_i\\big\\rangle = \\cos\\theta_i\\big|H\\big\\rangle + \\sin\\theta_i\\big|V\\big\\rangle.$$ Next, form the two-photon state: $$\\big|\\theta_A,\\theta_B\\big\\rangle = \\big|\\theta_A\\big\\rangle \\otimes \\big|\\theta_B\\big\\rangle = \\left(\\cos\\theta_A\\big|H\\big\\rangle + \\sin\\theta_A\\big|V\\big\\rangle\\right) \\otimes \\left(\\cos\\theta_B\\big|H\\big\\rangle + \\sin\\theta_B\\big|V\\big\\rangle\\right)$$\n",
    "which we can reduce to:\n",
    "$$=\\cos\\theta_A\\cos\\theta_B\\big|H,H\\big\\rangle + \\cos\\theta_A\\sin\\theta_B\\big|H,V\\big\\rangle + \\sin\\theta_A\\cos\\theta_B\\big|V,H\\big\\rangle + \\sin\\theta_A\\sin\\theta_B\\big|V,V\\big\\rangle.$$\n",
    "Find the probability of a joint measurement of polarizations $\\theta_A$ and $\\theta_B$:\n",
    "$$P(\\theta_A,\\theta_B) = \\big|\\big\\langle\\psi\\big|\\theta_A,\\theta_B\\big\\rangle\\big|^2$$\n",
    "Since $\\big|\\psi\\big\\rangle$ only has $\\big|H,H\\big\\rangle$ and $\\big|V,V\\big\\rangle$ terms, this probability only has two terms:\n",
    "$$P(\\theta_A,\\theta_B) = \\left|\\sqrt{0.2}\\cos\\theta_A\\cos\\theta_B + \\sqrt{0.8}\\sin\\theta_A\\sin\\theta_B\\right|^2$$\n",
    "Plot is shown below for $\\theta_A = -\\theta_B$ and it agrees perfectly with our model above."
   ]
  },
  {
   "cell_type": "code",
   "execution_count": 37,
   "metadata": {},
   "outputs": [
    {
     "data": {
      "text/plain": [
       "[<matplotlib.lines.Line2D at 0x11147ed30>]"
      ]
     },
     "execution_count": 37,
     "metadata": {},
     "output_type": "execute_result"
    },
    {
     "data": {
      "image/png": "[encoded data removed]",
      "text/plain": [
       "<matplotlib.figure.Figure at 0x111338160>"
      ]
     },
     "metadata": {},
     "output_type": "display_data"
    }
   ],
   "source": [
    "# Solution:\n",
    "# For the first plot, we can show the joint probability for two angles is given by:\n",
    "\n",
    "plt.plot(rad2deg(rads),(sqrt(0.2)*cos(-rads)*cos(rads) + sqrt(0.8)*sin(-rads)*sin(rads))**2)"
   ]
  },
  {
   "cell_type": "markdown",
   "metadata": {},
   "source": [
    "## Challenge:\n",
    "If we change the state to $\\big|\\psi\\big\\rangle = \\sqrt{0.8} \\big|H,H\\big\\rangle + \\sqrt{0.2} \\big|V,V\\big\\rangle$, the two angles that work for this state."
   ]
  },
  {
   "cell_type": "code",
   "execution_count": null,
   "metadata": {},
   "outputs": [],
   "source": [
    "# Solution\n",
    "\n",
    "psi3=sqrt(0.8)*tensor(H,H) + sqrt(0.2)*tensor(V,V)\n",
    "\n",
    "out = []\n",
    "for r in rads:\n",
    "    out.append(expect(tensor(P(-r),P(r)),psi3))\n",
    "\n",
    "plt.plot(angles,out,\".\") # plot in units of pi"
   ]
  },
  {
   "cell_type": "code",
   "execution_count": null,
   "metadata": {},
   "outputs": [],
   "source": [
    "# Solution\n",
    "out = []\n",
    "for r in rads:\n",
    "    out.append(expect(tensor(P(r),P(deg2rad(55))),psi3) / expect(tensor(P(r),qeye(2)),psi3))\n",
    "\n",
    "plt.plot(angles,out,\".\")"
   ]
  }
 ],
 "metadata": {
  "kernelspec": {
   "display_name": "Python 3",
   "language": "python",
   "name": "python3"
  },
  "language_info": {
   "codemirror_mode": {
    "name": "ipython",
    "version": 3
   },
   "file_extension": ".py",
   "mimetype": "text/x-python",
   "name": "python",
   "nbconvert_exporter": "python",
   "pygments_lexer": "ipython3",
   "version": "3.6.3"
  }
 },
 "nbformat": 4,
 "nbformat_minor": 1
}
