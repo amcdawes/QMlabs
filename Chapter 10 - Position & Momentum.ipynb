{
 "cells": [
  {
   "cell_type": "markdown",
   "metadata": {},
   "source": [
    "# Chapter 10 - Position and Momentum\n",
    "We can start using sympy to handle symbolic math (integrals and other calculus):"
   ]
  },
  {
   "cell_type": "code",
   "execution_count": 2,
   "metadata": {},
   "outputs": [],
   "source": [
    "from sympy import *"
   ]
  },
  {
   "cell_type": "code",
   "execution_count": 3,
   "metadata": {},
   "outputs": [],
   "source": [
    "init_printing(use_unicode=True)"
   ]
  },
  {
   "cell_type": "code",
   "execution_count": 13,
   "metadata": {},
   "outputs": [],
   "source": [
    "# SymPy works better if you specify what letters are symbols:\n",
    "x, y, z = symbols('x y z', real=True)\n",
    "\n",
    "# notice we can also put some restrictions on the symbols:\n",
    "a, c = symbols('a c', nonzero=True, real=True) "
   ]
  },
  {
   "cell_type": "code",
   "execution_count": 14,
   "metadata": {},
   "outputs": [],
   "source": [
    "integrate?"
   ]
  },
  {
   "cell_type": "markdown",
   "metadata": {},
   "source": [
    "There are two ways to use the `integrate` function. In one line, like `integrate(x,(x,0,1))` or by naming an expression and then integrating it over a range:\n",
    "\n",
    "```\n",
    "A = (c*cos((pi*x)/(2.0*a)))**2\n",
    "A.integrate((x,-a,a),conds='none')\n",
    "```\n",
    "\n",
    "We'll use both, at different times. For longer expressions, the second form can be easier to read and write.\n",
    "\n",
    "First, just try the following, then we'll re-create some examples in the book."
   ]
  },
  {
   "cell_type": "code",
   "execution_count": 15,
   "metadata": {},
   "outputs": [
    {
     "data": {
      "image/png": "[encoded data removed]",
      "text/latex": [
       "$\\displaystyle \\frac{1}{2}$"
      ],
      "text/plain": [
       "1/2"
      ]
     },
     "execution_count": 15,
     "metadata": {},
     "output_type": "execute_result"
    }
   ],
   "source": [
    "integrate(x,(x,0,1))"
   ]
  },
  {
   "cell_type": "code",
   "execution_count": 16,
   "metadata": {},
   "outputs": [
    {
     "data": {
      "image/png": "[encoded data removed]",
      "text/latex": [
       "$\\displaystyle \\frac{1}{3}$"
      ],
      "text/plain": [
       "1/3"
      ]
     },
     "execution_count": 16,
     "metadata": {},
     "output_type": "execute_result"
    }
   ],
   "source": [
    "integrate(x**2,(x,0,1))"
   ]
  },
  {
   "cell_type": "code",
   "execution_count": 17,
   "metadata": {},
   "outputs": [
    {
     "data": {
      "image/png": "[encoded data removed]",
      "text/latex": [
       "$\\displaystyle a c^{2}$"
      ],
      "text/plain": [
       "   2\n",
       "a⋅c "
      ]
     },
     "execution_count": 17,
     "metadata": {},
     "output_type": "execute_result"
    }
   ],
   "source": [
    "A = (c*cos((pi*x)/(2.0*a)))**2\n",
    "A.integrate((x,-a,a))"
   ]
  },
  {
   "cell_type": "markdown",
   "metadata": {},
   "source": [
    "So this tells us the normalization constant should be $c=\\frac{1}{\\sqrt{a}}$. Check that it is normalized if we do that:"
   ]
  },
  {
   "cell_type": "code",
   "execution_count": 18,
   "metadata": {},
   "outputs": [
    {
     "data": {
      "image/png": "[encoded data removed]",
      "text/latex": [
       "$\\displaystyle 1$"
      ],
      "text/plain": [
       "1"
      ]
     },
     "execution_count": 18,
     "metadata": {},
     "output_type": "execute_result"
    }
   ],
   "source": [
    "psi = 1/sqrt(a)*cos((pi*x)/(2.0*a))  # notice we can name the expression something useful.\n",
    "B = psi**2\n",
    "B.integrate( (x,-a,a), conds='none')"
   ]
  },
  {
   "cell_type": "markdown",
   "metadata": {},
   "source": [
    "Because `psi` is a real function, we can calculate expectation values by integrating over $x$ or $x^2$ with `psi**2`:"
   ]
  },
  {
   "cell_type": "code",
   "execution_count": 19,
   "metadata": {},
   "outputs": [
    {
     "data": {
      "image/png": "[encoded data removed]",
      "text/latex": [
       "$\\displaystyle 0$"
      ],
      "text/plain": [
       "0"
      ]
     },
     "execution_count": 19,
     "metadata": {},
     "output_type": "execute_result"
    }
   ],
   "source": [
    "C = x*psi**2\n",
    "C.integrate( (x,-a,a), conds='none')"
   ]
  },
  {
   "cell_type": "code",
   "execution_count": 24,
   "metadata": {},
   "outputs": [
    {
     "data": {
      "image/png": "[encoded data removed]",
      "text/latex": [
       "$\\displaystyle - \\frac{- \\frac{a^{3}}{6} + \\frac{a^{3}}{\\pi^{2}}}{a} + \\frac{- \\frac{a^{3}}{\\pi^{2}} + \\frac{a^{3}}{6}}{a}$"
      ],
      "text/plain": [
       "     3    3      3    3\n",
       "    a    a      a    a \n",
       "  - ── + ──   - ── + ──\n",
       "    6     2      2   6 \n",
       "         π      π      \n",
       "- ───────── + ─────────\n",
       "      a           a    "
      ]
     },
     "execution_count": 24,
     "metadata": {},
     "output_type": "execute_result"
    }
   ],
   "source": [
    "D = x**2 * psi**2\n",
    "E = D.integrate( (x,-a,a), conds='none')\n",
    "E"
   ]
  },
  {
   "cell_type": "code",
   "execution_count": 26,
   "metadata": {},
   "outputs": [
    {
     "data": {
      "image/png": "[encoded data removed]",
      "text/latex": [
       "$\\displaystyle \\frac{a^{2} \\left(-6 + \\pi^{2}\\right)}{3 \\pi^{2}}$"
      ],
      "text/plain": [
       " 2 ⎛      2⎞\n",
       "a ⋅⎝-6 + π ⎠\n",
       "────────────\n",
       "       2    \n",
       "    3⋅π     "
      ]
     },
     "execution_count": 26,
     "metadata": {},
     "output_type": "execute_result"
    }
   ],
   "source": [
    "E.simplify()  # this is a useful method!"
   ]
  },
  {
   "cell_type": "code",
   "execution_count": 27,
   "metadata": {},
   "outputs": [
    {
     "data": {
      "image/png": "[encoded data removed]",
      "text/latex": [
       "$\\displaystyle 0.130690966048658 a^{2}$"
      ],
      "text/plain": [
       "                   2\n",
       "0.130690966048658⋅a "
      ]
     },
     "execution_count": 27,
     "metadata": {},
     "output_type": "execute_result"
    }
   ],
   "source": [
    "E.n()  # the .n() method approximates the numerical part. You can look at the full expression below."
   ]
  },
  {
   "cell_type": "markdown",
   "metadata": {},
   "source": [
    "## Example 10.2"
   ]
  },
  {
   "cell_type": "code",
   "execution_count": 55,
   "metadata": {},
   "outputs": [],
   "source": [
    "h = Symbol('hbar', real=True, positive=True)"
   ]
  },
  {
   "cell_type": "markdown",
   "metadata": {},
   "source": [
    "Use the `diff` function to take a derivative of a symbolic expression. For example:"
   ]
  },
  {
   "cell_type": "code",
   "execution_count": 29,
   "metadata": {},
   "outputs": [
    {
     "data": {
      "image/png": "[encoded data removed]",
      "text/latex": [
       "$\\displaystyle 2 x$"
      ],
      "text/plain": [
       "2⋅x"
      ]
     },
     "execution_count": 29,
     "metadata": {},
     "output_type": "execute_result"
    }
   ],
   "source": [
    "diff(x**2, x)"
   ]
  },
  {
   "cell_type": "code",
   "execution_count": 30,
   "metadata": {},
   "outputs": [
    {
     "data": {
      "image/png": "[encoded data removed]",
      "text/latex": [
       "$\\displaystyle \\frac{0.5 i \\pi \\hbar \\sin{\\left(\\frac{\\pi x}{2 a} \\right)}}{a^{2}}$"
      ],
      "text/plain": [
       "             ⎛π⋅x⎞\n",
       "0.5⋅ⅈ⋅π⋅h̅⋅sin⎜───⎟\n",
       "             ⎝2⋅a⎠\n",
       "──────────────────\n",
       "         2        \n",
       "        a         "
      ]
     },
     "execution_count": 30,
     "metadata": {},
     "output_type": "execute_result"
    }
   ],
   "source": [
    "# Solution\n",
    "-1j*h*diff( 1/a*cos((pi*x)/(2*a)) ,x)"
   ]
  },
  {
   "cell_type": "code",
   "execution_count": 31,
   "metadata": {},
   "outputs": [
    {
     "data": {
      "image/png": "[encoded data removed]",
      "text/latex": [
       "$\\displaystyle \\frac{\\pi^{2} \\hbar^{2}}{4 a}$"
      ],
      "text/plain": [
       " 2  2\n",
       "π ⋅h̅ \n",
       "─────\n",
       " 4⋅a "
      ]
     },
     "execution_count": 31,
     "metadata": {},
     "output_type": "execute_result"
    }
   ],
   "source": [
    "# Solution\n",
    "B1 = (pi*h/(2*a))**2 * (cos((pi*x)/(2*a)))**2\n",
    "B1.integrate( (x,-a,a), conds='none' )"
   ]
  },
  {
   "cell_type": "markdown",
   "metadata": {},
   "source": [
    "## Example 10.3"
   ]
  },
  {
   "cell_type": "code",
   "execution_count": 32,
   "metadata": {},
   "outputs": [],
   "source": [
    "p = Symbol('p', real=True) "
   ]
  },
  {
   "cell_type": "code",
   "execution_count": 33,
   "metadata": {},
   "outputs": [],
   "source": [
    "# Solution\n",
    "A = integrate(1/sqrt(2*pi*a*h)*exp(-I*p*x/h)*cos((pi*x)/(2*a)),(x,-a,a), conds='none')"
   ]
  },
  {
   "cell_type": "code",
   "execution_count": 34,
   "metadata": {},
   "outputs": [
    {
     "data": {
      "image/png": "[encoded data removed]",
      "text/latex": [
       "$\\displaystyle - \\frac{\\sqrt{2} \\sqrt{\\pi} a \\hbar^{2}}{\\sqrt{a \\hbar} \\left(4 a^{2} p^{2} e^{\\frac{i a p}{\\hbar}} - \\pi^{2} \\hbar^{2} e^{\\frac{i a p}{\\hbar}}\\right)} - \\frac{\\sqrt{2} \\sqrt{\\pi} a \\hbar^{2}}{\\sqrt{a \\hbar} \\left(4 a^{2} p^{2} e^{- \\frac{i a p}{\\hbar}} - \\pi^{2} \\hbar^{2} e^{- \\frac{i a p}{\\hbar}}\\right)}$"
      ],
      "text/plain": [
       "                          2                                           2       \n",
       "                √2⋅√π⋅a⋅h̅                                  √2⋅√π⋅a⋅h̅        \n",
       "- ─────────────────────────────────────── - ──────────────────────────────────\n",
       "          ⎛         ⅈ⋅a⋅p          ⅈ⋅a⋅p⎞           ⎛         -ⅈ⋅a⋅p          \n",
       "          ⎜         ─────          ─────⎟           ⎜         ───────         \n",
       "    _____ ⎜   2  2    h̅     2  2    h̅ ⎟     _____ ⎜   2  2     h̅      2  2 \n",
       "  ╲╱ a⋅h̅⋅⎝4⋅a ⋅p ⋅ℯ      - π ⋅h̅ ⋅ℯ     ⎠   ╲╱ a⋅h̅⋅⎝4⋅a ⋅p ⋅ℯ        - π ⋅h̅\n",
       "\n",
       "         \n",
       "         \n",
       "─────────\n",
       " -ⅈ⋅a⋅p ⎞\n",
       " ───────⎟\n",
       "    h̅  ⎟\n",
       " ⋅ℯ       ⎠"
      ]
     },
     "execution_count": 34,
     "metadata": {},
     "output_type": "execute_result"
    }
   ],
   "source": [
    "# Solution\n",
    "A"
   ]
  },
  {
   "cell_type": "code",
   "execution_count": 37,
   "metadata": {},
   "outputs": [
    {
     "data": {
      "image/png": "[encoded data removed]",
      "text/latex": [
       "$\\displaystyle \\frac{2 \\sqrt{2} \\sqrt{\\pi} \\sqrt{\\frac{a}{\\hbar}} \\cos{\\left(\\frac{a p}{\\hbar} \\right)}}{- \\frac{4 a^{2} p^{2}}{\\hbar^{2}} + \\pi^{2}}$"
      ],
      "text/plain": [
       "            ___         \n",
       "           ╱ a     ⎛a⋅p⎞\n",
       "2⋅√2⋅√π⋅  ╱  ─ ⋅cos⎜───⎟\n",
       "        ╲╱   h̅    ⎝ h̅⎠\n",
       "────────────────────────\n",
       "          2  2          \n",
       "       4⋅a ⋅p     2     \n",
       "     - ─────── + π      \n",
       "           2            \n",
       "         h̅             "
      ]
     },
     "execution_count": 37,
     "metadata": {},
     "output_type": "execute_result"
    }
   ],
   "source": [
    "psi_p = sqrt(2*a*pi/h) * 2/(pi**2 - (2*p*a/h)**2) * cos(p*a/h)\n",
    "psi_p"
   ]
  },
  {
   "cell_type": "code",
   "execution_count": 38,
   "metadata": {},
   "outputs": [
    {
     "data": {
      "text/plain": [
       "True"
      ]
     },
     "execution_count": 38,
     "metadata": {},
     "output_type": "execute_result"
    }
   ],
   "source": [
    "psi_p == sqrt(2*a*pi/h)*2/(pi**2 - (2*p*a/h)**2) * cos(p*a/h)"
   ]
  },
  {
   "cell_type": "markdown",
   "metadata": {},
   "source": [
    "Which agrees with the book.\n",
    "\n",
    "This is about as far as we can go in sympy. Unfortunately, many other momentum integrals choke. There are a few hints to get through the rest here:"
   ]
  },
  {
   "cell_type": "markdown",
   "metadata": {
    "collapsed": true
   },
   "source": [
    "## Problem 10.3"
   ]
  },
  {
   "cell_type": "code",
   "execution_count": 40,
   "metadata": {},
   "outputs": [
    {
     "data": {
      "image/png": "[encoded data removed]",
      "text/latex": [
       "$\\displaystyle \\frac{\\sqrt{2} a^{\\frac{3}{2}}}{\\sqrt{\\pi}}$"
      ],
      "text/plain": [
       "    3/2\n",
       "√2⋅a   \n",
       "───────\n",
       "   √π  "
      ]
     },
     "execution_count": 40,
     "metadata": {},
     "output_type": "execute_result"
    }
   ],
   "source": [
    "x, y, z = symbols('x y z', real=True)\n",
    "a, c = symbols('a c', nonzero=True, real=True, positive=True)\n",
    "\n",
    "psi = c*1/(a**2 + x**2)  # define the wavefunction with c constant\n",
    "int1 = integrate(psi*psi,(x,-oo,oo), conds='none')  # integrate psi^2\n",
    "solutions = solve(int1 - 1,c)  # solve for c, this returns a list of solutions\n",
    "c2 = simplify(solutions[0])  # simplify the solution for c:\n",
    "c2"
   ]
  },
  {
   "cell_type": "code",
   "execution_count": 41,
   "metadata": {},
   "outputs": [
    {
     "data": {
      "image/png": "[encoded data removed]",
      "text/latex": [
       "$\\displaystyle \\frac{\\sqrt{2} a^{\\frac{3}{2}}}{\\sqrt{\\pi} \\left(a^{2} + x^{2}\\right)}$"
      ],
      "text/plain": [
       "      3/2   \n",
       "  √2⋅a      \n",
       "────────────\n",
       "   ⎛ 2    2⎞\n",
       "√π⋅⎝a  + x ⎠"
      ]
     },
     "execution_count": 41,
     "metadata": {},
     "output_type": "execute_result"
    }
   ],
   "source": [
    "psi2 = c2/c*psi\n",
    "psi2"
   ]
  },
  {
   "cell_type": "code",
   "execution_count": 42,
   "metadata": {},
   "outputs": [
    {
     "data": {
      "image/png": "[encoded data removed]",
      "text/latex": [
       "$\\displaystyle 0$"
      ],
      "text/plain": [
       "0"
      ]
     },
     "execution_count": 42,
     "metadata": {},
     "output_type": "execute_result"
    }
   ],
   "source": [
    "integrate(psi2 * x * psi2,(x,-oo,oo))"
   ]
  },
  {
   "cell_type": "code",
   "execution_count": 43,
   "metadata": {},
   "outputs": [
    {
     "data": {
      "image/png": "[encoded data removed]",
      "text/latex": [
       "$\\displaystyle a^{2}$"
      ],
      "text/plain": [
       " 2\n",
       "a "
      ]
     },
     "execution_count": 43,
     "metadata": {},
     "output_type": "execute_result"
    }
   ],
   "source": [
    "integrate(psi2 * x**2 * psi2,(x,-oo,oo))"
   ]
  },
  {
   "cell_type": "markdown",
   "metadata": {},
   "source": [
    "So $\\Delta x^2 = a^2 - 0^2$ therefore $\\Delta x = a$"
   ]
  },
  {
   "cell_type": "markdown",
   "metadata": {},
   "source": [
    "## Problem 10.17:\n",
    "Now find the momentum representation of the state from 10.3"
   ]
  },
  {
   "cell_type": "code",
   "execution_count": 56,
   "metadata": {},
   "outputs": [
    {
     "data": {
      "image/png": "[encoded data removed]",
      "text/latex": [
       "$\\displaystyle - \\frac{\\sqrt{a} \\left(2 \\left(- i \\operatorname{Shi}{\\left(\\frac{a p}{\\hbar} \\right)} - \\frac{\\pi}{2}\\right) \\cosh{\\left(\\frac{a p}{\\hbar} \\right)} + 2 i \\left(\\operatorname{Chi}\\left(\\frac{a p}{\\hbar}\\right) - \\frac{i \\pi}{2}\\right) \\sinh{\\left(\\frac{a p}{\\hbar} \\right)}\\right)}{2 \\pi \\sqrt{\\hbar}} - \\frac{\\sqrt{a} \\left(2 \\left(i \\operatorname{Shi}{\\left(\\frac{a p}{\\hbar} \\right)} - \\frac{\\pi}{2}\\right) \\cosh{\\left(\\frac{a p}{\\hbar} \\right)} - 2 i \\left(\\operatorname{Chi}\\left(\\frac{a p}{\\hbar}\\right) + \\frac{i \\pi}{2}\\right) \\sinh{\\left(\\frac{a p}{\\hbar} \\right)}\\right)}{2 \\pi \\sqrt{\\hbar}}$"
      ],
      "text/plain": [
       "     ⎛  ⎛       ⎛a⋅p⎞   π⎞     ⎛a⋅p⎞       ⎛   ⎛a⋅p⎞   ⅈ⋅π⎞     ⎛a⋅p⎞⎞      ⎛ \n",
       "  √a⋅⎜2⋅⎜- ⅈ⋅Shi⎜───⎟ - ─⎟⋅cosh⎜───⎟ + 2⋅ⅈ⋅⎜Chi⎜───⎟ - ───⎟⋅sinh⎜───⎟⎟   √a⋅⎜2\n",
       "     ⎝  ⎝       ⎝ h̅⎠   2⎠     ⎝ h̅⎠       ⎝   ⎝ h̅⎠    2 ⎠     ⎝ h̅⎠⎠      ⎝ \n",
       "- ──────────────────────────────────────────────────────────────────── - ─────\n",
       "                                2⋅π⋅√h̅                                       \n",
       "\n",
       " ⎛     ⎛a⋅p⎞   π⎞     ⎛a⋅p⎞       ⎛   ⎛a⋅p⎞   ⅈ⋅π⎞     ⎛a⋅p⎞⎞\n",
       "⋅⎜ⅈ⋅Shi⎜───⎟ - ─⎟⋅cosh⎜───⎟ - 2⋅ⅈ⋅⎜Chi⎜───⎟ + ───⎟⋅sinh⎜───⎟⎟\n",
       " ⎝     ⎝ h̅⎠   2⎠     ⎝ h̅⎠       ⎝   ⎝ h̅⎠    2 ⎠     ⎝ h̅⎠⎠\n",
       "─────────────────────────────────────────────────────────────\n",
       "                        2⋅π⋅√h̅                              "
      ]
     },
     "execution_count": 56,
     "metadata": {},
     "output_type": "execute_result"
    }
   ],
   "source": [
    "p = symbols('p', nonzero=True, real=True, positive=True)\n",
    "B = integrate(sqrt(1/(2*pi*h))*exp(-I*p*x/h)*psi2,(x,-oo,oo))\n",
    "B"
   ]
  },
  {
   "cell_type": "code",
   "execution_count": 57,
   "metadata": {},
   "outputs": [
    {
     "data": {
      "image/png": "[encoded data removed]",
      "text/latex": [
       "$\\displaystyle \\frac{\\sqrt{a} e^{- \\frac{a p}{\\hbar}}}{\\sqrt{\\hbar}}$"
      ],
      "text/plain": [
       "    -a⋅p \n",
       "    ─────\n",
       "      h̅ \n",
       "√a⋅ℯ     \n",
       "─────────\n",
       "   √h̅   "
      ]
     },
     "execution_count": 57,
     "metadata": {},
     "output_type": "execute_result"
    }
   ],
   "source": [
    "B.simplify()"
   ]
  },
  {
   "cell_type": "markdown",
   "metadata": {},
   "source": [
    "This agrees with the book after we notice that we had to force $p$ to be positive in order to get the integral to converge. The book has $|p|$ in the argument of the exponent to reflect this constraint."
   ]
  },
  {
   "cell_type": "code",
   "execution_count": null,
   "metadata": {},
   "outputs": [],
   "source": []
  }
 ],
 "metadata": {
  "kernelspec": {
   "display_name": "Python 3",
   "language": "python",
   "name": "python3"
  },
  "language_info": {
   "codemirror_mode": {
    "name": "ipython",
    "version": 3
   },
   "file_extension": ".py",
   "mimetype": "text/x-python",
   "name": "python",
   "nbconvert_exporter": "python",
   "pygments_lexer": "ipython3",
   "version": "3.7.6"
  }
 },
 "nbformat": 4,
 "nbformat_minor": 1
}
