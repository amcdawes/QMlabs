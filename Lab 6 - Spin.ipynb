{
 "cells": [
  {
   "cell_type": "markdown",
   "metadata": {},
   "source": [
    "# Lab 6 - Spin\n",
    "A few new operators (or new names for the same ones!)\n",
    "The three axes, x, y, z spin components can be measured with $SA_x$, $SA_y$, and $SA_z$ devices.\n",
    "\n",
    "**We'll use $\\hbar=1$ for numerical results**, this is fairly standard practice, but can be tricky to remember."
   ]
  },
  {
   "cell_type": "code",
   "execution_count": 1,
   "metadata": {},
   "outputs": [],
   "source": [
    "from numpy import sin,cos,pi,sqrt\n",
    "from qutip import *"
   ]
  },
  {
   "cell_type": "code",
   "execution_count": 2,
   "metadata": {},
   "outputs": [],
   "source": [
    "pz = Qobj([[1],[0]])  # +z\n",
    "mz = Qobj([[0],[1]])  # -z\n",
    "px = Qobj([[1/sqrt(2)],[1/sqrt(2)]])  # +x\n",
    "mx = Qobj([[1/sqrt(2)],[-1/sqrt(2)]])  # -x\n",
    "py = Qobj([[1/sqrt(2)],[1j/sqrt(2)]])  # +y\n",
    "my = Qobj([[1/sqrt(2)],[-1j/sqrt(2)]])  # -y\n",
    "Sx = 1/2.0*sigmax()\n",
    "Sy = 1/2.0*sigmay()\n",
    "Sz = 1/2.0*sigmaz()"
   ]
  },
  {
   "cell_type": "markdown",
   "metadata": {},
   "source": [
    "## Example: determine $P(S_x = \\frac{\\hbar}{2} ||-y\\rangle)$"
   ]
  },
  {
   "cell_type": "code",
   "execution_count": 3,
   "metadata": {},
   "outputs": [
    {
     "data": {
      "text/plain": [
       "0.4999999999999998"
      ]
     },
     "execution_count": 3,
     "metadata": {},
     "output_type": "execute_result"
    }
   ],
   "source": [
    "((px.dag()*my).norm())**2"
   ]
  },
  {
   "cell_type": "markdown",
   "metadata": {},
   "source": [
    "## Example: verify the commutation relation: $\\left[\\hat{S}_x,\\hat{S}_z\\right] = -i\\hbar\\hat{S}_y$"
   ]
  },
  {
   "cell_type": "code",
   "execution_count": 4,
   "metadata": {},
   "outputs": [
    {
     "data": {
      "text/plain": [
       "True"
      ]
     },
     "execution_count": 4,
     "metadata": {},
     "output_type": "execute_result"
    }
   ],
   "source": [
    "Sx*Sz - Sz*Sx == -1j*Sy  # remember, h = 1"
   ]
  },
  {
   "cell_type": "markdown",
   "metadata": {},
   "source": [
    "## Ex: find $\\langle \\hat{S}_x\\rangle$ for the state $|\\psi\\rangle=|+Z\\rangle$.\n"
   ]
  },
  {
   "cell_type": "code",
   "execution_count": 5,
   "metadata": {},
   "outputs": [
    {
     "data": {
      "text/latex": [
       "Quantum object: dims = [[1], [1]], shape = (1, 1), type = bra\\begin{equation*}\\left(\\begin{array}{*{11}c}0.0\\\\\\end{array}\\right)\\end{equation*}"
      ],
      "text/plain": [
       "Quantum object: dims = [[1], [1]], shape = (1, 1), type = bra\n",
       "Qobj data =\n",
       "[[0.]]"
      ]
     },
     "execution_count": 5,
     "metadata": {},
     "output_type": "execute_result"
    }
   ],
   "source": [
    "pz.dag()*Sx*pz"
   ]
  },
  {
   "cell_type": "markdown",
   "metadata": {},
   "source": [
    "This makes sense given that $S_x$ can be either $\\frac{+\\hbar}{2}$ or $\\frac{-\\hbar}{2}$ with equal probability. Similarly, if the state is $|\\psi\\rangle=|+x\\rangle$."
   ]
  },
  {
   "cell_type": "code",
   "execution_count": 6,
   "metadata": {},
   "outputs": [
    {
     "data": {
      "text/latex": [
       "Quantum object: dims = [[1], [1]], shape = (1, 1), type = bra\\begin{equation*}\\left(\\begin{array}{*{11}c}0.500\\\\\\end{array}\\right)\\end{equation*}"
      ],
      "text/plain": [
       "Quantum object: dims = [[1], [1]], shape = (1, 1), type = bra\n",
       "Qobj data =\n",
       "[[0.5]]"
      ]
     },
     "execution_count": 6,
     "metadata": {},
     "output_type": "execute_result"
    }
   ],
   "source": [
    "px.dag()*Sx*px"
   ]
  },
  {
   "cell_type": "markdown",
   "metadata": {},
   "source": [
    "Again, in units of $\\hbar$."
   ]
  },
  {
   "cell_type": "markdown",
   "metadata": {},
   "source": [
    "## Lab instructions:\n",
    "\n",
    "1. Calculate the expectation value $\\langle S_z \\rangle$ for the states $|+x\\rangle, |+y\\rangle, |+z\\rangle$\n",
    "\n",
    "2. Calculate the expectation value $\\langle S_z \\rangle$ for the state $|\\psi\\rangle = \\frac{1}{\\sqrt{2}}|+x\\rangle + \\frac{1}{\\sqrt{2}}|-x\\rangle$. Interpret this result, does it make sense? Is there a simpler way to write this state?\n",
    "\n",
    "3. Represent the spin-squared operator $\\hat S^2$ as a matrix.\n",
    "\n",
    "4. Verify that $\\hat S^2$ commutes with each spin component: $\\hat S_x, \\hat S_y, \\hat S_z$\n",
    "\n",
    "5. Find the expectation value of $S^2$ for the three postive spins: $|+x\\rangle, |+y\\rangle, and |+z\\rangle$. Interpret your results. Do the values differ? Should they?\n",
    "\n",
    "6. Problem 6.9, 6.11, 6.12 from Chapter 6"
   ]
  }
 ],
 "metadata": {
  "kernelspec": {
   "display_name": "Python 3",
   "language": "python",
   "name": "python3"
  },
  "language_info": {
   "codemirror_mode": {
    "name": "ipython",
    "version": 3
   },
   "file_extension": ".py",
   "mimetype": "text/x-python",
   "name": "python",
   "nbconvert_exporter": "python",
   "pygments_lexer": "ipython3",
   "version": "3.7.6"
  }
 },
 "nbformat": 4,
 "nbformat_minor": 1
}
