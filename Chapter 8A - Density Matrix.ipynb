{
  "cells": [
    {
      "cell_type": "markdown",
      "source": [
        "# Chapter 8 - Density Matrix"
      ],
      "metadata": {}
    },
    {
      "cell_type": "code",
      "source": [
        "from numpy import sqrt\n",
        "from qutip import *"
      ],
      "outputs": [],
      "execution_count": 4,
      "metadata": {}
    },
    {
      "cell_type": "code",
      "source": [
        "H = Qobj([[1],[0]])\n",
        "V = Qobj([[0],[1]])"
      ],
      "outputs": [],
      "execution_count": 5,
      "metadata": {}
    },
    {
      "cell_type": "markdown",
      "source": [
        "## Example 8.A.1:"
      ],
      "metadata": {}
    },
    {
      "cell_type": "code",
      "source": [
        "psi = 1/sqrt(2)*tensor(H,H) + 1/sqrt(2)*tensor(V,V)\n",
        "psi"
      ],
      "outputs": [
        {
          "output_type": "execute_result",
          "execution_count": 6,
          "data": {
            "text/latex": [
              "Quantum object: dims = [[2, 2], [1, 1]], shape = [4, 1], type = ket\\begin{equation*}\\left(\\begin{array}{*{11}c}0.707\\\\0.0\\\\0.0\\\\0.707\\\\\\end{array}\\right)\\end{equation*}"
            ],
            "text/plain": [
              "Quantum object: dims = [[2, 2], [1, 1]], shape = [4, 1], type = ket\n",
              "Qobj data =\n",
              "[[ 0.70710678]\n",
              " [ 0.        ]\n",
              " [ 0.        ]\n",
              " [ 0.70710678]]"
            ]
          },
          "metadata": {}
        }
      ],
      "execution_count": 6,
      "metadata": {}
    },
    {
      "cell_type": "code",
      "source": [
        "rho_ent = psi*psi.dag()"
      ],
      "outputs": [],
      "execution_count": 7,
      "metadata": {}
    },
    {
      "cell_type": "code",
      "source": [
        "(rho_ent*rho_ent).tr()"
      ],
      "outputs": [
        {
          "output_type": "execute_result",
          "execution_count": 8,
          "data": {
            "text/plain": [
              "0.9999999999999996"
            ]
          },
          "metadata": {}
        }
      ],
      "execution_count": 8,
      "metadata": {}
    },
    {
      "cell_type": "code",
      "source": [
        "rho_mix = 0.5*tensor(H,H)*tensor(H,H).dag() + 0.5*tensor(V,V)*tensor(V,V).dag()"
      ],
      "outputs": [],
      "execution_count": 9,
      "metadata": {}
    },
    {
      "cell_type": "code",
      "source": [
        "(rho_mix*rho_mix).tr()"
      ],
      "outputs": [
        {
          "output_type": "execute_result",
          "execution_count": 10,
          "data": {
            "text/plain": [
              "0.5"
            ]
          },
          "metadata": {}
        }
      ],
      "execution_count": 10,
      "metadata": {}
    },
    {
      "cell_type": "markdown",
      "source": [
        "## Example 8.A.2"
      ],
      "metadata": {}
    },
    {
      "cell_type": "markdown",
      "source": [
        "Remember the 45 states:"
      ],
      "metadata": {}
    },
    {
      "cell_type": "code",
      "source": [
        "P45 = Qobj([[1/sqrt(2)],[1/sqrt(2)]])\n",
        "M45 = Qobj([[1/sqrt(2)],[-1/sqrt(2)]])"
      ],
      "outputs": [],
      "execution_count": 11,
      "metadata": {}
    },
    {
      "cell_type": "markdown",
      "source": [
        "Create the projection operator for $|+45,+45\\rangle$"
      ],
      "metadata": {}
    },
    {
      "cell_type": "code",
      "source": [
        "Proj_4545 = tensor(P45,P45)*tensor(P45,P45).dag()"
      ],
      "outputs": [],
      "execution_count": 12,
      "metadata": {}
    },
    {
      "cell_type": "code",
      "source": [
        "(Proj_4545*rho_mix).tr()"
      ],
      "outputs": [
        {
          "output_type": "execute_result",
          "execution_count": 13,
          "data": {
            "text/plain": [
              "(0.2499999999999999+0j)"
            ]
          },
          "metadata": {}
        }
      ],
      "execution_count": 13,
      "metadata": {}
    },
    {
      "cell_type": "markdown",
      "source": [
        "Create projection operator for $|+45\\rangle_i$"
      ],
      "metadata": {}
    },
    {
      "cell_type": "code",
      "source": [
        "Proj_45i = tensor(qeye(2),P45)*tensor(qeye(2),P45).dag()"
      ],
      "outputs": [],
      "execution_count": 14,
      "metadata": {}
    },
    {
      "cell_type": "code",
      "source": [
        "(Proj_45i*rho_mix).tr()"
      ],
      "outputs": [
        {
          "output_type": "execute_result",
          "execution_count": 15,
          "data": {
            "text/plain": [
              "(0.4999999999999999+0j)"
            ]
          },
          "metadata": {}
        }
      ],
      "execution_count": 15,
      "metadata": {}
    },
    {
      "cell_type": "code",
      "source": [
        "0.25/0.5"
      ],
      "outputs": [
        {
          "output_type": "execute_result",
          "execution_count": 16,
          "data": {
            "text/plain": [
              "0.5"
            ]
          },
          "metadata": {}
        }
      ],
      "execution_count": 16,
      "metadata": {}
    },
    {
      "cell_type": "markdown",
      "source": [
        "### Extend the example for the pure (superposition) state"
      ],
      "metadata": {}
    },
    {
      "cell_type": "code",
      "source": [
        "(Proj_4545*rho_ent).tr() / (Proj_45i*rho_ent).tr()"
      ],
      "outputs": [
        {
          "output_type": "execute_result",
          "execution_count": 17,
          "data": {
            "text/plain": [
              "(0.9999999999999998+0j)"
            ]
          },
          "metadata": {}
        }
      ],
      "execution_count": 17,
      "metadata": {}
    },
    {
      "cell_type": "markdown",
      "source": [
        "The photons are entanlged and therefore show perfect correlation even in the +45 measurements."
      ],
      "metadata": {}
    }
  ],
  "metadata": {
    "kernelspec": {
      "name": "python3",
      "language": "python",
      "display_name": "Python 3"
    },
    "language_info": {
      "name": "python",
      "version": "3.7.4",
      "mimetype": "text/x-python",
      "codemirror_mode": {
        "name": "ipython",
        "version": 3
      },
      "pygments_lexer": "ipython3",
      "nbconvert_exporter": "python",
      "file_extension": ".py"
    },
    "kernel_info": {
      "name": "python3"
    },
    "nteract": {
      "version": "0.15.0"
    }
  },
  "nbformat": 4,
  "nbformat_minor": 1
}